{
 "cells": [
  {
   "cell_type": "code",
   "execution_count": 12,
   "metadata": {},
   "outputs": [
    {
     "name": "stdout",
     "output_type": "stream",
     "text": [
      "Requirement already satisfied: pandas in /Users/sina/Library/CloudStorage/OneDrive-UniversityofCalgary/Programming Mac/GitHub/Large_Language_Models_in_RE/primary_experiment/.venv/lib/python3.8/site-packages (from -r requirements.txt (line 1)) (2.0.3)\n",
      "Requirement already satisfied: numpy in /Users/sina/Library/CloudStorage/OneDrive-UniversityofCalgary/Programming Mac/GitHub/Large_Language_Models_in_RE/primary_experiment/.venv/lib/python3.8/site-packages (from -r requirements.txt (line 2)) (1.24.4)\n",
      "Requirement already satisfied: python-dateutil>=2.8.2 in /Users/sina/Library/CloudStorage/OneDrive-UniversityofCalgary/Programming Mac/GitHub/Large_Language_Models_in_RE/primary_experiment/.venv/lib/python3.8/site-packages (from pandas->-r requirements.txt (line 1)) (2.8.2)\n",
      "Requirement already satisfied: pytz>=2020.1 in /Users/sina/Library/CloudStorage/OneDrive-UniversityofCalgary/Programming Mac/GitHub/Large_Language_Models_in_RE/primary_experiment/.venv/lib/python3.8/site-packages (from pandas->-r requirements.txt (line 1)) (2024.1)\n",
      "Requirement already satisfied: tzdata>=2022.1 in /Users/sina/Library/CloudStorage/OneDrive-UniversityofCalgary/Programming Mac/GitHub/Large_Language_Models_in_RE/primary_experiment/.venv/lib/python3.8/site-packages (from pandas->-r requirements.txt (line 1)) (2024.1)\n",
      "Requirement already satisfied: six>=1.5 in /Users/sina/Library/CloudStorage/OneDrive-UniversityofCalgary/Programming Mac/GitHub/Large_Language_Models_in_RE/primary_experiment/.venv/lib/python3.8/site-packages (from python-dateutil>=2.8.2->pandas->-r requirements.txt (line 1)) (1.16.0)\n"
     ]
    }
   ],
   "source": [
    "!pip install -r requirements.txt"
   ]
  },
  {
   "cell_type": "code",
   "execution_count": 13,
   "metadata": {},
   "outputs": [],
   "source": [
    "import pandas as pd\n",
    "import numpy as np"
   ]
  },
  {
   "cell_type": "code",
   "execution_count": 4,
   "metadata": {},
   "outputs": [],
   "source": [
    "file_path = \"./data/code_search_net_python.csv\""
   ]
  },
  {
   "cell_type": "code",
   "execution_count": 10,
   "metadata": {},
   "outputs": [
    {
     "data": {
      "text/html": [
       "<div>\n",
       "<style scoped>\n",
       "    .dataframe tbody tr th:only-of-type {\n",
       "        vertical-align: middle;\n",
       "    }\n",
       "\n",
       "    .dataframe tbody tr th {\n",
       "        vertical-align: top;\n",
       "    }\n",
       "\n",
       "    .dataframe thead th {\n",
       "        text-align: right;\n",
       "    }\n",
       "</style>\n",
       "<table border=\"1\" class=\"dataframe\">\n",
       "  <thead>\n",
       "    <tr style=\"text-align: right;\">\n",
       "      <th></th>\n",
       "      <th>repository_name</th>\n",
       "      <th>func_path_in_repository</th>\n",
       "      <th>func_name</th>\n",
       "      <th>whole_func_string</th>\n",
       "      <th>language</th>\n",
       "      <th>func_code_string</th>\n",
       "      <th>func_code_tokens</th>\n",
       "      <th>func_documentation_string</th>\n",
       "      <th>func_documentation_tokens</th>\n",
       "      <th>split_name</th>\n",
       "      <th>func_code_url</th>\n",
       "    </tr>\n",
       "  </thead>\n",
       "  <tbody>\n",
       "    <tr>\n",
       "      <th>0</th>\n",
       "      <td>proycon/pynlpl</td>\n",
       "      <td>pynlpl/formats/folia.py</td>\n",
       "      <td>AbstractElement.addidsuffix</td>\n",
       "      <td>def addidsuffix(self, idsuffix, recursive = Tr...</td>\n",
       "      <td>python</td>\n",
       "      <td>def addidsuffix(self, idsuffix, recursive = Tr...</td>\n",
       "      <td>['def', 'addidsuffix', '(', 'self', ',', 'idsu...</td>\n",
       "      <td>Appends a suffix to this element's ID, and opt...</td>\n",
       "      <td>['Appends', 'a', 'suffix', 'to', 'this', 'elem...</td>\n",
       "      <td>train</td>\n",
       "      <td>https://github.com/proycon/pynlpl/blob/7707f69...</td>\n",
       "    </tr>\n",
       "    <tr>\n",
       "      <th>1</th>\n",
       "      <td>proycon/pynlpl</td>\n",
       "      <td>pynlpl/formats/folia.py</td>\n",
       "      <td>AbstractElement.setparents</td>\n",
       "      <td>def setparents(self):\\n        \"\"\"Correct all ...</td>\n",
       "      <td>python</td>\n",
       "      <td>def setparents(self):\\n        \"\"\"Correct all ...</td>\n",
       "      <td>['def', 'setparents', '(', 'self', ')', ':', '...</td>\n",
       "      <td>Correct all parent relations for elements with...</td>\n",
       "      <td>['Correct', 'all', 'parent', 'relations', 'for...</td>\n",
       "      <td>train</td>\n",
       "      <td>https://github.com/proycon/pynlpl/blob/7707f69...</td>\n",
       "    </tr>\n",
       "    <tr>\n",
       "      <th>2</th>\n",
       "      <td>proycon/pynlpl</td>\n",
       "      <td>pynlpl/formats/folia.py</td>\n",
       "      <td>AbstractElement.setdoc</td>\n",
       "      <td>def setdoc(self,newdoc):\\n        \"\"\"Set a dif...</td>\n",
       "      <td>python</td>\n",
       "      <td>def setdoc(self,newdoc):\\n        \"\"\"Set a dif...</td>\n",
       "      <td>['def', 'setdoc', '(', 'self', ',', 'newdoc', ...</td>\n",
       "      <td>Set a different document. Usually no need to c...</td>\n",
       "      <td>['Set', 'a', 'different', 'document', '.', 'Us...</td>\n",
       "      <td>train</td>\n",
       "      <td>https://github.com/proycon/pynlpl/blob/7707f69...</td>\n",
       "    </tr>\n",
       "    <tr>\n",
       "      <th>3</th>\n",
       "      <td>proycon/pynlpl</td>\n",
       "      <td>pynlpl/formats/folia.py</td>\n",
       "      <td>AbstractElement.hastext</td>\n",
       "      <td>def hastext(self,cls='current',strict=True, co...</td>\n",
       "      <td>python</td>\n",
       "      <td>def hastext(self,cls='current',strict=True, co...</td>\n",
       "      <td>['def', 'hastext', '(', 'self', ',', 'cls', '=...</td>\n",
       "      <td>Does this element have text (of the specified ...</td>\n",
       "      <td>['Does', 'this', 'element', 'have', 'text', '(...</td>\n",
       "      <td>train</td>\n",
       "      <td>https://github.com/proycon/pynlpl/blob/7707f69...</td>\n",
       "    </tr>\n",
       "    <tr>\n",
       "      <th>4</th>\n",
       "      <td>proycon/pynlpl</td>\n",
       "      <td>pynlpl/formats/folia.py</td>\n",
       "      <td>AbstractElement.hasphon</td>\n",
       "      <td>def hasphon(self,cls='current',strict=True,cor...</td>\n",
       "      <td>python</td>\n",
       "      <td>def hasphon(self,cls='current',strict=True,cor...</td>\n",
       "      <td>['def', 'hasphon', '(', 'self', ',', 'cls', '=...</td>\n",
       "      <td>Does this element have phonetic content (of th...</td>\n",
       "      <td>['Does', 'this', 'element', 'have', 'phonetic'...</td>\n",
       "      <td>train</td>\n",
       "      <td>https://github.com/proycon/pynlpl/blob/7707f69...</td>\n",
       "    </tr>\n",
       "  </tbody>\n",
       "</table>\n",
       "</div>"
      ],
      "text/plain": [
       "  repository_name  func_path_in_repository                    func_name  \\\n",
       "0  proycon/pynlpl  pynlpl/formats/folia.py  AbstractElement.addidsuffix   \n",
       "1  proycon/pynlpl  pynlpl/formats/folia.py   AbstractElement.setparents   \n",
       "2  proycon/pynlpl  pynlpl/formats/folia.py       AbstractElement.setdoc   \n",
       "3  proycon/pynlpl  pynlpl/formats/folia.py      AbstractElement.hastext   \n",
       "4  proycon/pynlpl  pynlpl/formats/folia.py      AbstractElement.hasphon   \n",
       "\n",
       "                                   whole_func_string language  \\\n",
       "0  def addidsuffix(self, idsuffix, recursive = Tr...   python   \n",
       "1  def setparents(self):\\n        \"\"\"Correct all ...   python   \n",
       "2  def setdoc(self,newdoc):\\n        \"\"\"Set a dif...   python   \n",
       "3  def hastext(self,cls='current',strict=True, co...   python   \n",
       "4  def hasphon(self,cls='current',strict=True,cor...   python   \n",
       "\n",
       "                                    func_code_string  \\\n",
       "0  def addidsuffix(self, idsuffix, recursive = Tr...   \n",
       "1  def setparents(self):\\n        \"\"\"Correct all ...   \n",
       "2  def setdoc(self,newdoc):\\n        \"\"\"Set a dif...   \n",
       "3  def hastext(self,cls='current',strict=True, co...   \n",
       "4  def hasphon(self,cls='current',strict=True,cor...   \n",
       "\n",
       "                                    func_code_tokens  \\\n",
       "0  ['def', 'addidsuffix', '(', 'self', ',', 'idsu...   \n",
       "1  ['def', 'setparents', '(', 'self', ')', ':', '...   \n",
       "2  ['def', 'setdoc', '(', 'self', ',', 'newdoc', ...   \n",
       "3  ['def', 'hastext', '(', 'self', ',', 'cls', '=...   \n",
       "4  ['def', 'hasphon', '(', 'self', ',', 'cls', '=...   \n",
       "\n",
       "                           func_documentation_string  \\\n",
       "0  Appends a suffix to this element's ID, and opt...   \n",
       "1  Correct all parent relations for elements with...   \n",
       "2  Set a different document. Usually no need to c...   \n",
       "3  Does this element have text (of the specified ...   \n",
       "4  Does this element have phonetic content (of th...   \n",
       "\n",
       "                           func_documentation_tokens split_name  \\\n",
       "0  ['Appends', 'a', 'suffix', 'to', 'this', 'elem...      train   \n",
       "1  ['Correct', 'all', 'parent', 'relations', 'for...      train   \n",
       "2  ['Set', 'a', 'different', 'document', '.', 'Us...      train   \n",
       "3  ['Does', 'this', 'element', 'have', 'text', '(...      train   \n",
       "4  ['Does', 'this', 'element', 'have', 'phonetic'...      train   \n",
       "\n",
       "                                       func_code_url  \n",
       "0  https://github.com/proycon/pynlpl/blob/7707f69...  \n",
       "1  https://github.com/proycon/pynlpl/blob/7707f69...  \n",
       "2  https://github.com/proycon/pynlpl/blob/7707f69...  \n",
       "3  https://github.com/proycon/pynlpl/blob/7707f69...  \n",
       "4  https://github.com/proycon/pynlpl/blob/7707f69...  "
      ]
     },
     "execution_count": 10,
     "metadata": {},
     "output_type": "execute_result"
    }
   ],
   "source": [
    "df = pd.read_csv(file_path)\n",
    "df.head()"
   ]
  },
  {
   "cell_type": "code",
   "execution_count": 9,
   "metadata": {},
   "outputs": [
    {
     "name": "stdout",
     "output_type": "stream",
     "text": [
      "<class 'pandas.core.frame.DataFrame'>\n",
      "RangeIndex: 457461 entries, 0 to 457460\n",
      "Data columns (total 11 columns):\n",
      " #   Column                     Non-Null Count   Dtype \n",
      "---  ------                     --------------   ----- \n",
      " 0   repository_name            457461 non-null  object\n",
      " 1   func_path_in_repository    457461 non-null  object\n",
      " 2   func_name                  457459 non-null  object\n",
      " 3   whole_func_string          457461 non-null  object\n",
      " 4   language                   457461 non-null  object\n",
      " 5   func_code_string           457461 non-null  object\n",
      " 6   func_code_tokens           457461 non-null  object\n",
      " 7   func_documentation_string  457461 non-null  object\n",
      " 8   func_documentation_tokens  457461 non-null  object\n",
      " 9   split_name                 457461 non-null  object\n",
      " 10  func_code_url              457461 non-null  object\n",
      "dtypes: object(11)\n",
      "memory usage: 38.4+ MB\n"
     ]
    }
   ],
   "source": [
    "df.info()"
   ]
  },
  {
   "cell_type": "code",
   "execution_count": 14,
   "metadata": {},
   "outputs": [],
   "source": [
    "# Identify the most repeated repositories\n",
    "repo_counts = df['repository_name'].value_counts()\n",
    "\n",
    "# Step 2: Randomly select 2 repositories from the top N\n",
    "# Adjust N based on how many top repeated repos you want to consider\n",
    "top_repos = repo_counts.head(10).index.tolist() # Consider top 10 for a wider selection pool\n",
    "selected_repos = np.random.choice(top_repos, 2, replace=False)\n",
    "\n",
    "# Step 3: Extract rows belonging to these repositories\n",
    "filtered_df = df[df['repository_name'].isin(selected_repos)]\n",
    "\n",
    "# `filtered_df` is now your new dataset containing only the rows from the 2 randomly selected repositories\n"
   ]
  },
  {
   "cell_type": "code",
   "execution_count": 15,
   "metadata": {},
   "outputs": [],
   "source": [
    "test_dataset_path = \"./data/test_dataset_python.csv\"\n",
    "filtered_df.to_csv(test_dataset_path, index=False)"
   ]
  }
 ],
 "metadata": {
  "kernelspec": {
   "display_name": ".venv",
   "language": "python",
   "name": "python3"
  },
  "language_info": {
   "codemirror_mode": {
    "name": "ipython",
    "version": 3
   },
   "file_extension": ".py",
   "mimetype": "text/x-python",
   "name": "python",
   "nbconvert_exporter": "python",
   "pygments_lexer": "ipython3",
   "version": "3.8.0"
  }
 },
 "nbformat": 4,
 "nbformat_minor": 2
}
