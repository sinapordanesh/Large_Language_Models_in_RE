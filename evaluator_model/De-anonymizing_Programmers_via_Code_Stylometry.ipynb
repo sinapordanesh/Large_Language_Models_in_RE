{
 "cells": [
  {
   "cell_type": "code",
   "execution_count": 1,
   "metadata": {},
   "outputs": [],
   "source": [
    "import json\n",
    "import random\n",
    "import warnings\n",
    "import numpy as np\n",
    "import pandas as pd\n",
    "import matplotlib.pyplot as plt\n",
    "from tqdm.notebook import tqdm\n",
    "\n",
    "from pathlib import Path\n",
    "from collections import defaultdict\n",
    "from features.utils import build_mapping_to_ids\n",
    "\n",
    "warnings.filterwarnings('ignore')"
   ]
  },
  {
   "cell_type": "markdown",
   "metadata": {},
   "source": [
    "# Data"
   ]
  },
  {
   "cell_type": "markdown",
   "metadata": {},
   "source": [
    "### Get all problems"
   ]
  },
  {
   "cell_type": "code",
   "execution_count": 2,
   "metadata": {},
   "outputs": [],
   "source": [
    "dataset = pd.read_csv(\"data/java_2000_dataset_code.csv\")"
   ]
  },
  {
   "cell_type": "code",
   "execution_count": 3,
   "metadata": {},
   "outputs": [],
   "source": [
    "# Drop rows where null values exist in 'focal_class_code' or 'test_class_code'\n",
    "dataset.dropna(subset=['focal_class_code', 'test_class_code'], inplace=True)"
   ]
  },
  {
   "cell_type": "code",
   "execution_count": 4,
   "metadata": {},
   "outputs": [],
   "source": [
    "# dataset.head()"
   ]
  },
  {
   "cell_type": "code",
   "execution_count": 5,
   "metadata": {},
   "outputs": [],
   "source": [
    "# dataset.info()"
   ]
  },
  {
   "cell_type": "code",
   "execution_count": 6,
   "metadata": {},
   "outputs": [],
   "source": [
    "# dataset.isnull().sum()"
   ]
  },
  {
   "cell_type": "code",
   "execution_count": 7,
   "metadata": {},
   "outputs": [
    {
     "name": "stdout",
     "output_type": "stream",
     "text": [
      "<<<<<<<<<<<<<<<<<<<PART 1 FINISHED>>>>>>>>>>>>>>>>>>>>>>>>\n"
     ]
    }
   ],
   "source": [
    "print(\"<<<<<<<<<<<<<<<<<<<PART 1 FINISHED>>>>>>>>>>>>>>>>>>>>>>>>\")"
   ]
  },
  {
   "cell_type": "markdown",
   "metadata": {},
   "source": [
    "# Build dataset"
   ]
  },
  {
   "cell_type": "code",
   "execution_count": 8,
   "metadata": {},
   "outputs": [],
   "source": [
    "from features import *\n",
    "from sklearn.feature_selection import mutual_info_regression"
   ]
  },
  {
   "cell_type": "code",
   "execution_count": 9,
   "metadata": {},
   "outputs": [],
   "source": [
    "# codes = dataset['focal_class_code'].values  # Assuming 'code_column' is the name of your column with the code\n",
    "\n",
    "codes_with_ids = [{'repo_id': row['repo_id'], 'code': row['focal_class_code']} for index, row in dataset.iterrows()]\n",
    "\n",
    "samples = calculate_features_for_files(codes_with_ids)"
   ]
  },
  {
   "cell_type": "code",
   "execution_count": 10,
   "metadata": {},
   "outputs": [
    {
     "name": "stdout",
     "output_type": "stream",
     "text": [
      "<<<<<<<<<<<<<<<<<<<PART 2 FINISHED>>>>>>>>>>>>>>>>>>>>>>>>\n"
     ]
    }
   ],
   "source": [
    "print(\"<<<<<<<<<<<<<<<<<<<PART 2 FINISHED>>>>>>>>>>>>>>>>>>>>>>>>\")"
   ]
  },
  {
   "cell_type": "markdown",
   "metadata": {},
   "source": [
    "### Minor EDA for samples"
   ]
  },
  {
   "cell_type": "code",
   "execution_count": 11,
   "metadata": {},
   "outputs": [],
   "source": [
    "# samplesdf = pd.DataFrame(samples) "
   ]
  },
  {
   "cell_type": "code",
   "execution_count": 13,
   "metadata": {},
   "outputs": [],
   "source": [
    "import dask.dataframe as dd\n",
    "\n",
    "# Convert the samples list to a Dask DataFrame\n",
    "samplesdf = dd.from_pandas(pd.DataFrame(samples), npartitions=10)  # Adjust npartitions based on your dataset and system\n"
   ]
  },
  {
   "cell_type": "code",
   "execution_count": 14,
   "metadata": {},
   "outputs": [
    {
     "data": {
      "text/plain": [
       "(Delayed('int-5d2d9989-f713-4189-97ab-474bb643ab8e'), 14289)"
      ]
     },
     "execution_count": 14,
     "metadata": {},
     "output_type": "execute_result"
    }
   ],
   "source": [
    "samplesdf.shape"
   ]
  },
  {
   "cell_type": "code",
   "execution_count": 15,
   "metadata": {},
   "outputs": [],
   "source": [
    "# column_name = 'repo_id'\n",
    "# # Pop the column out of the DataFrame\n",
    "# desired_column = samplesdf.pop(column_name)\n",
    "# # Reinsert it at the beginning of the DataFrame\n",
    "# samplesdf.insert(0, column_name, desired_column)"
   ]
  },
  {
   "cell_type": "code",
   "execution_count": 16,
   "metadata": {},
   "outputs": [
    {
     "data": {
      "text/html": [
       "<div>\n",
       "<style scoped>\n",
       "    .dataframe tbody tr th:only-of-type {\n",
       "        vertical-align: middle;\n",
       "    }\n",
       "\n",
       "    .dataframe tbody tr th {\n",
       "        vertical-align: top;\n",
       "    }\n",
       "\n",
       "    .dataframe thead th {\n",
       "        text-align: right;\n",
       "    }\n",
       "</style>\n",
       "<table border=\"1\" class=\"dataframe\">\n",
       "  <thead>\n",
       "    <tr style=\"text-align: right;\">\n",
       "      <th></th>\n",
       "      <th>repo_id</th>\n",
       "      <th>WordUnigramTF_csv</th>\n",
       "      <th>WordUnigramTF_converter</th>\n",
       "      <th>WordUnigramTF_de</th>\n",
       "      <th>WordUnigramTF_bytefish</th>\n",
       "      <th>WordUnigramTF_jtinycsvparser</th>\n",
       "      <th>WordUnigramTF_typeconverter</th>\n",
       "      <th>WordUnigramTF_ITypeConverter</th>\n",
       "      <th>WordUnigramTF_utils</th>\n",
       "      <th>WordUnigramTF_StringUtils</th>\n",
       "      <th>...</th>\n",
       "      <th>WordUnigramTF_getOnlyThreadPoolUtilization</th>\n",
       "      <th>WordUnigramTF_sampleCommandUtilization</th>\n",
       "      <th>WordUnigramTF_sampleThreadPoolUtilization</th>\n",
       "      <th>WordUnigramTF_commandUtilizationPerKey</th>\n",
       "      <th>WordUnigramTF_threadPoolUtilizationPerKey</th>\n",
       "      <th>WordUnigramTF_hystrixUtilization</th>\n",
       "      <th>WordUnigramTF_getCommandUtilizationMap</th>\n",
       "      <th>WordUnigramTF_getThreadPoolUtilizationMap</th>\n",
       "      <th>WordUnigramTF_doThrow</th>\n",
       "      <th>WordUnigramTF_RollingCollapserBatchSizeDistributionStream</th>\n",
       "    </tr>\n",
       "  </thead>\n",
       "  <tbody>\n",
       "    <tr>\n",
       "      <th>0</th>\n",
       "      <td>58314354</td>\n",
       "      <td>0.016393</td>\n",
       "      <td>0.016393</td>\n",
       "      <td>0.016393</td>\n",
       "      <td>0.016393</td>\n",
       "      <td>0.016393</td>\n",
       "      <td>0.016393</td>\n",
       "      <td>0.032787</td>\n",
       "      <td>0.016393</td>\n",
       "      <td>0.032787</td>\n",
       "      <td>...</td>\n",
       "      <td>NaN</td>\n",
       "      <td>NaN</td>\n",
       "      <td>NaN</td>\n",
       "      <td>NaN</td>\n",
       "      <td>NaN</td>\n",
       "      <td>NaN</td>\n",
       "      <td>NaN</td>\n",
       "      <td>NaN</td>\n",
       "      <td>NaN</td>\n",
       "      <td>NaN</td>\n",
       "    </tr>\n",
       "    <tr>\n",
       "      <th>1</th>\n",
       "      <td>58314354</td>\n",
       "      <td>NaN</td>\n",
       "      <td>NaN</td>\n",
       "      <td>NaN</td>\n",
       "      <td>NaN</td>\n",
       "      <td>NaN</td>\n",
       "      <td>NaN</td>\n",
       "      <td>NaN</td>\n",
       "      <td>0.016129</td>\n",
       "      <td>NaN</td>\n",
       "      <td>...</td>\n",
       "      <td>NaN</td>\n",
       "      <td>NaN</td>\n",
       "      <td>NaN</td>\n",
       "      <td>NaN</td>\n",
       "      <td>NaN</td>\n",
       "      <td>NaN</td>\n",
       "      <td>NaN</td>\n",
       "      <td>NaN</td>\n",
       "      <td>NaN</td>\n",
       "      <td>NaN</td>\n",
       "    </tr>\n",
       "    <tr>\n",
       "      <th>2</th>\n",
       "      <td>58314354</td>\n",
       "      <td>NaN</td>\n",
       "      <td>NaN</td>\n",
       "      <td>NaN</td>\n",
       "      <td>NaN</td>\n",
       "      <td>NaN</td>\n",
       "      <td>NaN</td>\n",
       "      <td>NaN</td>\n",
       "      <td>0.016129</td>\n",
       "      <td>NaN</td>\n",
       "      <td>...</td>\n",
       "      <td>NaN</td>\n",
       "      <td>NaN</td>\n",
       "      <td>NaN</td>\n",
       "      <td>NaN</td>\n",
       "      <td>NaN</td>\n",
       "      <td>NaN</td>\n",
       "      <td>NaN</td>\n",
       "      <td>NaN</td>\n",
       "      <td>NaN</td>\n",
       "      <td>NaN</td>\n",
       "    </tr>\n",
       "    <tr>\n",
       "      <th>3</th>\n",
       "      <td>58314354</td>\n",
       "      <td>NaN</td>\n",
       "      <td>NaN</td>\n",
       "      <td>NaN</td>\n",
       "      <td>NaN</td>\n",
       "      <td>NaN</td>\n",
       "      <td>NaN</td>\n",
       "      <td>NaN</td>\n",
       "      <td>0.016129</td>\n",
       "      <td>NaN</td>\n",
       "      <td>...</td>\n",
       "      <td>NaN</td>\n",
       "      <td>NaN</td>\n",
       "      <td>NaN</td>\n",
       "      <td>NaN</td>\n",
       "      <td>NaN</td>\n",
       "      <td>NaN</td>\n",
       "      <td>NaN</td>\n",
       "      <td>NaN</td>\n",
       "      <td>NaN</td>\n",
       "      <td>NaN</td>\n",
       "    </tr>\n",
       "    <tr>\n",
       "      <th>4</th>\n",
       "      <td>58314354</td>\n",
       "      <td>0.029703</td>\n",
       "      <td>0.009901</td>\n",
       "      <td>NaN</td>\n",
       "      <td>NaN</td>\n",
       "      <td>NaN</td>\n",
       "      <td>NaN</td>\n",
       "      <td>NaN</td>\n",
       "      <td>0.009901</td>\n",
       "      <td>NaN</td>\n",
       "      <td>...</td>\n",
       "      <td>NaN</td>\n",
       "      <td>NaN</td>\n",
       "      <td>NaN</td>\n",
       "      <td>NaN</td>\n",
       "      <td>NaN</td>\n",
       "      <td>NaN</td>\n",
       "      <td>NaN</td>\n",
       "      <td>NaN</td>\n",
       "      <td>NaN</td>\n",
       "      <td>NaN</td>\n",
       "    </tr>\n",
       "  </tbody>\n",
       "</table>\n",
       "<p>5 rows × 14289 columns</p>\n",
       "</div>"
      ],
      "text/plain": [
       "    repo_id  WordUnigramTF_csv  WordUnigramTF_converter  WordUnigramTF_de  \\\n",
       "0  58314354           0.016393                 0.016393          0.016393   \n",
       "1  58314354                NaN                      NaN               NaN   \n",
       "2  58314354                NaN                      NaN               NaN   \n",
       "3  58314354                NaN                      NaN               NaN   \n",
       "4  58314354           0.029703                 0.009901               NaN   \n",
       "\n",
       "   WordUnigramTF_bytefish  WordUnigramTF_jtinycsvparser  \\\n",
       "0                0.016393                      0.016393   \n",
       "1                     NaN                           NaN   \n",
       "2                     NaN                           NaN   \n",
       "3                     NaN                           NaN   \n",
       "4                     NaN                           NaN   \n",
       "\n",
       "   WordUnigramTF_typeconverter  WordUnigramTF_ITypeConverter  \\\n",
       "0                     0.016393                      0.032787   \n",
       "1                          NaN                           NaN   \n",
       "2                          NaN                           NaN   \n",
       "3                          NaN                           NaN   \n",
       "4                          NaN                           NaN   \n",
       "\n",
       "   WordUnigramTF_utils  WordUnigramTF_StringUtils  ...  \\\n",
       "0             0.016393                   0.032787  ...   \n",
       "1             0.016129                        NaN  ...   \n",
       "2             0.016129                        NaN  ...   \n",
       "3             0.016129                        NaN  ...   \n",
       "4             0.009901                        NaN  ...   \n",
       "\n",
       "   WordUnigramTF_getOnlyThreadPoolUtilization  \\\n",
       "0                                         NaN   \n",
       "1                                         NaN   \n",
       "2                                         NaN   \n",
       "3                                         NaN   \n",
       "4                                         NaN   \n",
       "\n",
       "   WordUnigramTF_sampleCommandUtilization  \\\n",
       "0                                     NaN   \n",
       "1                                     NaN   \n",
       "2                                     NaN   \n",
       "3                                     NaN   \n",
       "4                                     NaN   \n",
       "\n",
       "   WordUnigramTF_sampleThreadPoolUtilization  \\\n",
       "0                                        NaN   \n",
       "1                                        NaN   \n",
       "2                                        NaN   \n",
       "3                                        NaN   \n",
       "4                                        NaN   \n",
       "\n",
       "   WordUnigramTF_commandUtilizationPerKey  \\\n",
       "0                                     NaN   \n",
       "1                                     NaN   \n",
       "2                                     NaN   \n",
       "3                                     NaN   \n",
       "4                                     NaN   \n",
       "\n",
       "   WordUnigramTF_threadPoolUtilizationPerKey  \\\n",
       "0                                        NaN   \n",
       "1                                        NaN   \n",
       "2                                        NaN   \n",
       "3                                        NaN   \n",
       "4                                        NaN   \n",
       "\n",
       "   WordUnigramTF_hystrixUtilization  WordUnigramTF_getCommandUtilizationMap  \\\n",
       "0                               NaN                                     NaN   \n",
       "1                               NaN                                     NaN   \n",
       "2                               NaN                                     NaN   \n",
       "3                               NaN                                     NaN   \n",
       "4                               NaN                                     NaN   \n",
       "\n",
       "   WordUnigramTF_getThreadPoolUtilizationMap  WordUnigramTF_doThrow  \\\n",
       "0                                        NaN                    NaN   \n",
       "1                                        NaN                    NaN   \n",
       "2                                        NaN                    NaN   \n",
       "3                                        NaN                    NaN   \n",
       "4                                        NaN                    NaN   \n",
       "\n",
       "   WordUnigramTF_RollingCollapserBatchSizeDistributionStream  \n",
       "0                                                NaN          \n",
       "1                                                NaN          \n",
       "2                                                NaN          \n",
       "3                                                NaN          \n",
       "4                                                NaN          \n",
       "\n",
       "[5 rows x 14289 columns]"
      ]
     },
     "execution_count": 16,
     "metadata": {},
     "output_type": "execute_result"
    }
   ],
   "source": [
    "samplesdf.head()"
   ]
  },
  {
   "cell_type": "code",
   "execution_count": 17,
   "metadata": {},
   "outputs": [],
   "source": [
    "# columns_to_check = [\n",
    "#     \"WordUnigramTF\",\n",
    "#     \"In(numkeywords/length)\",\n",
    "#     \"In(numTernary/length)\",\n",
    "#     \"In(numTokens/length)\",\n",
    "#     \"In(numComments/length)\",\n",
    "#     \"In(numLiterals/length)\",\n",
    "#     \"In(numKeywords/length)\",\n",
    "#     \"In(numFunctions/length)\",\n",
    "#     \"In(numMacros/length)\",\n",
    "#     \"nestingDepth\",\n",
    "#     \"branchingFactor\",\n",
    "#     \"avgParams\",\n",
    "#     \"stdDevNumParams\",\n",
    "#     \"avgLineLength\",\n",
    "#     \"stdDevLineLength\",\n",
    "#     \"In(numTabs/length)\",\n",
    "#     \"In(numSpaces/length)\",\n",
    "#     \"In(numEmptyLines/length)\",\n",
    "#     \"whiteSpaceRatio\",\n",
    "#     \"newLineBeforeOpenBrace\",\n",
    "#     \"tabsLeadLines\",\n",
    "#     \"MaxDepthASTNode\",\n",
    "#     \"ASTNodeBigramsTF\",\n",
    "#     \"ASTNodeTypesTF\",\n",
    "#     \"ASTNodeTypesTFIDF\",\n",
    "#     \"ASTNodeTypeAvgDep\",\n",
    "#     \"cppKeywords\",\n",
    "#     \"CodeInASTLeavesTF\",\n",
    "#     \"CodeInASTLeavesTFIDF\",\n",
    "#     \"CodeInASTLeavesAvgDep\"\n",
    "# ]\n",
    "\n",
    "# # Function to clean column names\n",
    "# def clean_column_name(name):\n",
    "#     return name.replace(\" \", \"\").replace(\"In\", \"ln\").lower()\n",
    "\n",
    "# # Clean DataFrame column names\n",
    "# xdf.columns = [clean_column_name(name) for name in xdf.columns]\n",
    "\n",
    "# # Check each column\n",
    "# for col in columns_to_check:\n",
    "#     cleaned_col = clean_column_name(col)\n",
    "#     if cleaned_col in xdf.columns:\n",
    "#         print(f\"Column '{col}' exists in the DataFrame.\")\n",
    "#     else:\n",
    "#         print(f\"Column '{col}' does NOT exist in the DataFrame.\")"
   ]
  },
  {
   "cell_type": "code",
   "execution_count": 18,
   "metadata": {},
   "outputs": [
    {
     "name": "stdout",
     "output_type": "stream",
     "text": [
      "<<<<<<<<<<<<<<<<<<<PART 3 FINISHED>>>>>>>>>>>>>>>>>>>>>>>>\n"
     ]
    }
   ],
   "source": [
    "print(\"<<<<<<<<<<<<<<<<<<<PART 3 FINISHED>>>>>>>>>>>>>>>>>>>>>>>>\")"
   ]
  },
  {
   "cell_type": "markdown",
   "metadata": {},
   "source": [
    "## Build X and Y "
   ]
  },
  {
   "cell_type": "code",
   "execution_count": 19,
   "metadata": {},
   "outputs": [],
   "source": [
    "import pandas as pd\n",
    "from sklearn.model_selection import train_test_split\n",
    "from sklearn.feature_selection import mutual_info_regression\n",
    "import numpy as np"
   ]
  },
  {
   "cell_type": "code",
   "execution_count": 20,
   "metadata": {},
   "outputs": [],
   "source": [
    "y = samplesdf['repo_id']\n",
    "X = samplesdf.drop(columns=['repo_id'])"
   ]
  },
  {
   "cell_type": "code",
   "execution_count": 21,
   "metadata": {},
   "outputs": [],
   "source": [
    "# X.fillna(0, inplace=True)\n",
    "X = X.fillna(0)\n",
    "y = y.fillna(0)"
   ]
  },
  {
   "cell_type": "code",
   "execution_count": 22,
   "metadata": {},
   "outputs": [
    {
     "name": "stdout",
     "output_type": "stream",
     "text": [
      "<<<<<<<<<<<<<<<<<<<PART 4 FINISHED>>>>>>>>>>>>>>>>>>>>>>>>\n"
     ]
    }
   ],
   "source": [
    "print(\"<<<<<<<<<<<<<<<<<<<PART 4 FINISHED>>>>>>>>>>>>>>>>>>>>>>>>\")"
   ]
  },
  {
   "cell_type": "markdown",
   "metadata": {},
   "source": [
    "### Select the best 1500 features according to mutual information"
   ]
  },
  {
   "cell_type": "code",
   "execution_count": 23,
   "metadata": {},
   "outputs": [],
   "source": [
    "# Convert to numpy array for mutual information calculation if needed\n",
    "\n",
    "# X_np = X.to_numpy(dtype=np.float32)\n",
    "\n",
    "# Replace inf/-inf with large finite numbers (if infinities are expected)\n",
    "# X_np = np.where(np.isinf(X_np), np.finfo(np.float32).max, X_np)\n",
    "\n",
    "#--------------------\n",
    "\n",
    "X_small = X.compute()  # Converts the Dask DataFrame to a pandas DataFrame\n",
    "y_small = y.compute()\n",
    "\n",
    "X_small = X_small.replace([np.inf, -np.inf], np.finfo(np.float32).max)\n",
    "X_small[X_small > np.finfo(np.float32).max] = np.finfo(np.float32).max\n",
    "X_small[X_small < np.finfo(np.float32).min] = np.finfo(np.float32).min\n",
    "\n",
    "X_np = X_small.astype(np.float32).to_numpy()\n",
    "y_np = y_small.to_numpy()"
   ]
  },
  {
   "cell_type": "code",
   "execution_count": 24,
   "metadata": {},
   "outputs": [
    {
     "name": "stdout",
     "output_type": "stream",
     "text": [
      "<<<<<<<<<<<<<<<<<<<PART 5 FINISHED>>>>>>>>>>>>>>>>>>>>>>>>\n"
     ]
    }
   ],
   "source": [
    "print(\"<<<<<<<<<<<<<<<<<<<PART 5 FINISHED>>>>>>>>>>>>>>>>>>>>>>>>\")"
   ]
  },
  {
   "cell_type": "code",
   "execution_count": 25,
   "metadata": {},
   "outputs": [
    {
     "name": "stdout",
     "output_type": "stream",
     "text": [
      "Number of samples: 1914\n",
      "Number of features: 1500\n"
     ]
    }
   ],
   "source": [
    "# Calculate mutual information\n",
    "# mi = mutual_info_regression(X_np, y, random_state=0)\n",
    "# mi /= np.max(mi)  # Normalize mutual information scores for better comparison\n",
    "\n",
    "# # Select the top 1500 features\n",
    "# mi_indices = np.argsort(mi)[-1500:]  # Get indices of top 1500 features\n",
    "# selected_features = X.columns[mi_indices]  # Get feature names\n",
    "# X = X[selected_features]  # Subset X to keep only selected features\n",
    "\n",
    "# print(f'Number of samples: {X.shape[0]}')\n",
    "# print(f'Number of features: {X.shape[1]}')\n",
    "\n",
    "#------------------------\n",
    "# # Calculate mutual information\n",
    "mi = mutual_info_regression(X_np, y.compute(), random_state=0)  # Ensure y is also prepared for this operation\n",
    "mi /= np.max(mi)  # Normalize mutual information scores for better comparison\n",
    "\n",
    "# Select the top 1500 features\n",
    "mi_indices = np.argsort(mi)[-1500:]  # Get indices of top 1500 features\n",
    "selected_features = X_small.columns[mi_indices]  # Get feature names\n",
    "X_selected = X_small[selected_features]  # Subset X to keep only selected features\n",
    "\n",
    "print(f'Number of samples: {X_selected.shape[0]}')\n",
    "print(f'Number of features: {X_selected.shape[1]}')\n"
   ]
  },
  {
   "cell_type": "code",
   "execution_count": 35,
   "metadata": {},
   "outputs": [],
   "source": [
    "X = X_selected"
   ]
  },
  {
   "cell_type": "code",
   "execution_count": 36,
   "metadata": {},
   "outputs": [
    {
     "name": "stdout",
     "output_type": "stream",
     "text": [
      "<<<<<<<<<<<<<<<<<<<PART 6 FINISHED>>>>>>>>>>>>>>>>>>>>>>>>\n"
     ]
    }
   ],
   "source": [
    "print(\"<<<<<<<<<<<<<<<<<<<PART 6 FINISHED>>>>>>>>>>>>>>>>>>>>>>>>\")"
   ]
  },
  {
   "cell_type": "code",
   "execution_count": 37,
   "metadata": {},
   "outputs": [
    {
     "data": {
      "text/html": [
       "<div>\n",
       "<style scoped>\n",
       "    .dataframe tbody tr th:only-of-type {\n",
       "        vertical-align: middle;\n",
       "    }\n",
       "\n",
       "    .dataframe tbody tr th {\n",
       "        vertical-align: top;\n",
       "    }\n",
       "\n",
       "    .dataframe thead th {\n",
       "        text-align: right;\n",
       "    }\n",
       "</style>\n",
       "<table border=\"1\" class=\"dataframe\">\n",
       "  <thead>\n",
       "    <tr style=\"text-align: right;\">\n",
       "      <th></th>\n",
       "      <th>WordUnigramTF_configuredTheme</th>\n",
       "      <th>WordUnigramTF_showSizePanelIcon</th>\n",
       "      <th>WordUnigramTF_MethodSignature</th>\n",
       "      <th>WordUnigramTF_articles</th>\n",
       "      <th>WordUnigramTF_MapStoreFactory</th>\n",
       "      <th>WordUnigramTF_pragmaSynchronous</th>\n",
       "      <th>WordUnigramTF_parent</th>\n",
       "      <th>WordUnigramTF_getGamesLocator</th>\n",
       "      <th>ASTNodeBigramsTF_SynchronizedStatement_ClassReference</th>\n",
       "      <th>WordUnigramTF_DataSetValidatorProvider</th>\n",
       "      <th>...</th>\n",
       "      <th>ln(numKeywords/length)</th>\n",
       "      <th>ASTNodeTypesTF_ReferenceType</th>\n",
       "      <th>ln(num_package/length)</th>\n",
       "      <th>ln(num_class/length)</th>\n",
       "      <th>ln(numTokens/length)</th>\n",
       "      <th>ln(numEmptyLines/length)</th>\n",
       "      <th>ln(numTernary/length)</th>\n",
       "      <th>stdDevLineLength</th>\n",
       "      <th>whiteSpaceRatio</th>\n",
       "      <th>ln(numSpaces/length)</th>\n",
       "    </tr>\n",
       "  </thead>\n",
       "  <tbody>\n",
       "    <tr>\n",
       "      <th>0</th>\n",
       "      <td>0.0</td>\n",
       "      <td>0.0</td>\n",
       "      <td>0.0</td>\n",
       "      <td>0.0</td>\n",
       "      <td>0.0</td>\n",
       "      <td>0.0</td>\n",
       "      <td>0.0</td>\n",
       "      <td>0.0</td>\n",
       "      <td>0.0</td>\n",
       "      <td>0.0</td>\n",
       "      <td>...</td>\n",
       "      <td>-3.915218</td>\n",
       "      <td>0.164179</td>\n",
       "      <td>-7.134094</td>\n",
       "      <td>-6.440947</td>\n",
       "      <td>-3.023220</td>\n",
       "      <td>0.010367</td>\n",
       "      <td>-30.159945</td>\n",
       "      <td>26.861520</td>\n",
       "      <td>0.290123</td>\n",
       "      <td>0.187400</td>\n",
       "    </tr>\n",
       "    <tr>\n",
       "      <th>1</th>\n",
       "      <td>0.0</td>\n",
       "      <td>0.0</td>\n",
       "      <td>0.0</td>\n",
       "      <td>0.0</td>\n",
       "      <td>0.0</td>\n",
       "      <td>0.0</td>\n",
       "      <td>0.0</td>\n",
       "      <td>0.0</td>\n",
       "      <td>0.0</td>\n",
       "      <td>0.0</td>\n",
       "      <td>...</td>\n",
       "      <td>-3.948033</td>\n",
       "      <td>0.235294</td>\n",
       "      <td>-6.838405</td>\n",
       "      <td>-6.838405</td>\n",
       "      <td>-2.711271</td>\n",
       "      <td>0.009646</td>\n",
       "      <td>-29.864256</td>\n",
       "      <td>30.402958</td>\n",
       "      <td>0.211688</td>\n",
       "      <td>0.141479</td>\n",
       "    </tr>\n",
       "    <tr>\n",
       "      <th>2</th>\n",
       "      <td>0.0</td>\n",
       "      <td>0.0</td>\n",
       "      <td>0.0</td>\n",
       "      <td>0.0</td>\n",
       "      <td>0.0</td>\n",
       "      <td>0.0</td>\n",
       "      <td>0.0</td>\n",
       "      <td>0.0</td>\n",
       "      <td>0.0</td>\n",
       "      <td>0.0</td>\n",
       "      <td>...</td>\n",
       "      <td>-3.948033</td>\n",
       "      <td>0.235294</td>\n",
       "      <td>-6.838405</td>\n",
       "      <td>-6.838405</td>\n",
       "      <td>-2.711271</td>\n",
       "      <td>0.009646</td>\n",
       "      <td>-29.864256</td>\n",
       "      <td>30.402958</td>\n",
       "      <td>0.211688</td>\n",
       "      <td>0.141479</td>\n",
       "    </tr>\n",
       "    <tr>\n",
       "      <th>3</th>\n",
       "      <td>0.0</td>\n",
       "      <td>0.0</td>\n",
       "      <td>0.0</td>\n",
       "      <td>0.0</td>\n",
       "      <td>0.0</td>\n",
       "      <td>0.0</td>\n",
       "      <td>0.0</td>\n",
       "      <td>0.0</td>\n",
       "      <td>0.0</td>\n",
       "      <td>0.0</td>\n",
       "      <td>...</td>\n",
       "      <td>-3.948033</td>\n",
       "      <td>0.235294</td>\n",
       "      <td>-6.838405</td>\n",
       "      <td>-6.838405</td>\n",
       "      <td>-2.711271</td>\n",
       "      <td>0.009646</td>\n",
       "      <td>-29.864256</td>\n",
       "      <td>30.402958</td>\n",
       "      <td>0.211688</td>\n",
       "      <td>0.141479</td>\n",
       "    </tr>\n",
       "    <tr>\n",
       "      <th>4</th>\n",
       "      <td>0.0</td>\n",
       "      <td>0.0</td>\n",
       "      <td>0.0</td>\n",
       "      <td>0.0</td>\n",
       "      <td>0.0</td>\n",
       "      <td>0.0</td>\n",
       "      <td>0.0</td>\n",
       "      <td>0.0</td>\n",
       "      <td>0.0</td>\n",
       "      <td>0.0</td>\n",
       "      <td>...</td>\n",
       "      <td>-4.754739</td>\n",
       "      <td>0.280000</td>\n",
       "      <td>-7.462789</td>\n",
       "      <td>-7.462789</td>\n",
       "      <td>-2.847669</td>\n",
       "      <td>0.007463</td>\n",
       "      <td>-30.488640</td>\n",
       "      <td>43.037774</td>\n",
       "      <td>0.181017</td>\n",
       "      <td>0.129736</td>\n",
       "    </tr>\n",
       "  </tbody>\n",
       "</table>\n",
       "<p>5 rows × 1500 columns</p>\n",
       "</div>"
      ],
      "text/plain": [
       "   WordUnigramTF_configuredTheme  WordUnigramTF_showSizePanelIcon  \\\n",
       "0                            0.0                              0.0   \n",
       "1                            0.0                              0.0   \n",
       "2                            0.0                              0.0   \n",
       "3                            0.0                              0.0   \n",
       "4                            0.0                              0.0   \n",
       "\n",
       "   WordUnigramTF_MethodSignature  WordUnigramTF_articles  \\\n",
       "0                            0.0                     0.0   \n",
       "1                            0.0                     0.0   \n",
       "2                            0.0                     0.0   \n",
       "3                            0.0                     0.0   \n",
       "4                            0.0                     0.0   \n",
       "\n",
       "   WordUnigramTF_MapStoreFactory  WordUnigramTF_pragmaSynchronous  \\\n",
       "0                            0.0                              0.0   \n",
       "1                            0.0                              0.0   \n",
       "2                            0.0                              0.0   \n",
       "3                            0.0                              0.0   \n",
       "4                            0.0                              0.0   \n",
       "\n",
       "   WordUnigramTF_parent  WordUnigramTF_getGamesLocator  \\\n",
       "0                   0.0                            0.0   \n",
       "1                   0.0                            0.0   \n",
       "2                   0.0                            0.0   \n",
       "3                   0.0                            0.0   \n",
       "4                   0.0                            0.0   \n",
       "\n",
       "   ASTNodeBigramsTF_SynchronizedStatement_ClassReference  \\\n",
       "0                                                0.0       \n",
       "1                                                0.0       \n",
       "2                                                0.0       \n",
       "3                                                0.0       \n",
       "4                                                0.0       \n",
       "\n",
       "   WordUnigramTF_DataSetValidatorProvider  ...  ln(numKeywords/length)  \\\n",
       "0                                     0.0  ...               -3.915218   \n",
       "1                                     0.0  ...               -3.948033   \n",
       "2                                     0.0  ...               -3.948033   \n",
       "3                                     0.0  ...               -3.948033   \n",
       "4                                     0.0  ...               -4.754739   \n",
       "\n",
       "   ASTNodeTypesTF_ReferenceType  ln(num_package/length)  ln(num_class/length)  \\\n",
       "0                      0.164179               -7.134094             -6.440947   \n",
       "1                      0.235294               -6.838405             -6.838405   \n",
       "2                      0.235294               -6.838405             -6.838405   \n",
       "3                      0.235294               -6.838405             -6.838405   \n",
       "4                      0.280000               -7.462789             -7.462789   \n",
       "\n",
       "   ln(numTokens/length)  ln(numEmptyLines/length)  ln(numTernary/length)  \\\n",
       "0             -3.023220                  0.010367             -30.159945   \n",
       "1             -2.711271                  0.009646             -29.864256   \n",
       "2             -2.711271                  0.009646             -29.864256   \n",
       "3             -2.711271                  0.009646             -29.864256   \n",
       "4             -2.847669                  0.007463             -30.488640   \n",
       "\n",
       "   stdDevLineLength  whiteSpaceRatio  ln(numSpaces/length)  \n",
       "0         26.861520         0.290123              0.187400  \n",
       "1         30.402958         0.211688              0.141479  \n",
       "2         30.402958         0.211688              0.141479  \n",
       "3         30.402958         0.211688              0.141479  \n",
       "4         43.037774         0.181017              0.129736  \n",
       "\n",
       "[5 rows x 1500 columns]"
      ]
     },
     "execution_count": 37,
     "metadata": {},
     "output_type": "execute_result"
    }
   ],
   "source": [
    "X.head()"
   ]
  },
  {
   "cell_type": "code",
   "execution_count": 38,
   "metadata": {},
   "outputs": [
    {
     "data": {
      "text/plain": [
       "0"
      ]
     },
     "execution_count": 38,
     "metadata": {},
     "output_type": "execute_result"
    }
   ],
   "source": [
    "X.isnull().all(axis=1).sum() # Rows with all columns null"
   ]
  },
  {
   "cell_type": "code",
   "execution_count": 39,
   "metadata": {},
   "outputs": [
    {
     "data": {
      "text/plain": [
       "WordUnigramTF_configuredTheme      0\n",
       "WordUnigramTF_showSizePanelIcon    0\n",
       "WordUnigramTF_MethodSignature      0\n",
       "WordUnigramTF_articles             0\n",
       "WordUnigramTF_MapStoreFactory      0\n",
       "                                  ..\n",
       "ln(numEmptyLines/length)           0\n",
       "ln(numTernary/length)              0\n",
       "stdDevLineLength                   0\n",
       "whiteSpaceRatio                    0\n",
       "ln(numSpaces/length)               0\n",
       "Length: 1500, dtype: int64"
      ]
     },
     "execution_count": 39,
     "metadata": {},
     "output_type": "execute_result"
    }
   ],
   "source": [
    "X.isnull().sum()"
   ]
  },
  {
   "cell_type": "code",
   "execution_count": 40,
   "metadata": {},
   "outputs": [
    {
     "name": "stdout",
     "output_type": "stream",
     "text": [
      "<<<<<<<<<<<<<<<<<<<PART 7 FINISHED>>>>>>>>>>>>>>>>>>>>>>>>\n"
     ]
    }
   ],
   "source": [
    "print(\"<<<<<<<<<<<<<<<<<<<PART 7 FINISHED>>>>>>>>>>>>>>>>>>>>>>>>\")"
   ]
  },
  {
   "cell_type": "markdown",
   "metadata": {},
   "source": [
    "# Classification"
   ]
  },
  {
   "cell_type": "code",
   "execution_count": 31,
   "metadata": {},
   "outputs": [],
   "source": [
    "from sklearn.model_selection import train_test_split"
   ]
  },
  {
   "cell_type": "code",
   "execution_count": 43,
   "metadata": {},
   "outputs": [],
   "source": [
    "# X_train, X_test, y_train, y_test = train_test_split(X, y, test_size=0.2, random_state=42, stratify=y)\n",
    "\n",
    "y = y.compute()  # Convert Dask Series to Pandas Series\n",
    "\n",
    "X_train, X_test, y_train, y_test = train_test_split(X, y, test_size=0.2, random_state=42, stratify=y_pd)"
   ]
  },
  {
   "cell_type": "code",
   "execution_count": 44,
   "metadata": {},
   "outputs": [
    {
     "name": "stdout",
     "output_type": "stream",
     "text": [
      "Test Accuracy: 1.0000\n"
     ]
    }
   ],
   "source": [
    "from sklearn.ensemble import RandomForestClassifier\n",
    "from sklearn.metrics import accuracy_score\n",
    "\n",
    "# Initialize the Random Forest classifier\n",
    "rf = RandomForestClassifier(n_estimators=100, random_state=42)\n",
    "\n",
    "# Train the model\n",
    "rf.fit(X_train, y_train)\n",
    "\n",
    "# Predict on the test set\n",
    "y_pred = rf.predict(X_test)\n",
    "\n",
    "# Evaluate the model\n",
    "accuracy = accuracy_score(y_test, y_pred)\n",
    "print(f'Test Accuracy: {accuracy:.4f}')"
   ]
  },
  {
   "cell_type": "code",
   "execution_count": 45,
   "metadata": {},
   "outputs": [
    {
     "name": "stdout",
     "output_type": "stream",
     "text": [
      "<<<<<<<<<<<<<<<<<<<PART 8 FINISHED>>>>>>>>>>>>>>>>>>>>>>>>\n"
     ]
    }
   ],
   "source": [
    "print(\"<<<<<<<<<<<<<<<<<<<PART 8 FINISHED>>>>>>>>>>>>>>>>>>>>>>>>\")"
   ]
  },
  {
   "cell_type": "markdown",
   "metadata": {},
   "source": [
    "# Validation"
   ]
  },
  {
   "cell_type": "markdown",
   "metadata": {},
   "source": [
    "### Cross-Validation"
   ]
  },
  {
   "cell_type": "code",
   "execution_count": 47,
   "metadata": {},
   "outputs": [
    {
     "name": "stdout",
     "output_type": "stream",
     "text": [
      "CV Accuracy Scores: [0.99738903 1.         1.         0.99738903 0.9947644 ]\n",
      "CV Accuracy: 1.00 (+/- 0.00)\n"
     ]
    }
   ],
   "source": [
    "from sklearn.model_selection import cross_val_score\n",
    "\n",
    "# Perform 5-fold cross-validation\n",
    "cv_scores = cross_val_score(rf, X, y, cv=5)\n",
    "\n",
    "print(\"CV Accuracy Scores:\", cv_scores)\n",
    "print(\"CV Accuracy: %0.2f (+/- %0.2f)\" % (cv_scores.mean(), cv_scores.std() * 2))"
   ]
  },
  {
   "cell_type": "markdown",
   "metadata": {},
   "source": [
    "### Precision, Recall, and F1 Score"
   ]
  },
  {
   "cell_type": "code",
   "execution_count": 48,
   "metadata": {},
   "outputs": [
    {
     "name": "stdout",
     "output_type": "stream",
     "text": [
      "              precision    recall  f1-score   support\n",
      "\n",
      "     6766558       1.00      1.00      1.00        35\n",
      "    16611556       1.00      1.00      1.00        35\n",
      "    17898911       1.00      1.00      1.00        68\n",
      "    34861263       1.00      1.00      1.00         1\n",
      "    41263775       1.00      1.00      1.00        55\n",
      "    41307987       1.00      1.00      1.00         3\n",
      "    42557838       1.00      1.00      1.00        29\n",
      "    44512524       1.00      1.00      1.00        80\n",
      "    58314354       1.00      1.00      1.00         1\n",
      "    59021106       1.00      1.00      1.00         5\n",
      "    59801168       1.00      1.00      1.00         1\n",
      "    81368488       1.00      1.00      1.00        37\n",
      "   102814088       1.00      1.00      1.00         4\n",
      "   173924701       1.00      1.00      1.00         1\n",
      "   181421086       1.00      1.00      1.00        26\n",
      "   183214896       1.00      1.00      1.00         1\n",
      "   188705852       1.00      1.00      1.00         1\n",
      "\n",
      "    accuracy                           1.00       383\n",
      "   macro avg       1.00      1.00      1.00       383\n",
      "weighted avg       1.00      1.00      1.00       383\n",
      "\n"
     ]
    }
   ],
   "source": [
    "from sklearn.metrics import classification_report\n",
    "\n",
    "print(classification_report(y_test, y_pred))"
   ]
  },
  {
   "cell_type": "markdown",
   "metadata": {},
   "source": [
    "### ROC Curve and AUC Score"
   ]
  },
  {
   "cell_type": "code",
   "execution_count": 49,
   "metadata": {},
   "outputs": [
    {
     "name": "stdout",
     "output_type": "stream",
     "text": [
      "ROC AUC Score: 1.0\n"
     ]
    }
   ],
   "source": [
    "from sklearn.metrics import roc_auc_score, roc_curve\n",
    "from sklearn.preprocessing import label_binarize\n",
    "\n",
    "# Binarize y_test and y_pred for multi-class ROC AUC calculation\n",
    "y_test_binarized = label_binarize(y_test, classes=np.unique(y))\n",
    "y_pred_proba = rf.predict_proba(X_test)\n",
    "\n",
    "# Compute AUC\n",
    "roc_auc = roc_auc_score(y_test_binarized, y_pred_proba, multi_class=\"ovr\")\n",
    "\n",
    "print(\"ROC AUC Score:\", roc_auc)\n",
    "\n",
    "# For plotting ROC curves for each class, you'd iterate through classes and calculate ROC curve per class"
   ]
  },
  {
   "cell_type": "markdown",
   "metadata": {},
   "source": [
    "### Feature Importances"
   ]
  },
  {
   "cell_type": "code",
   "execution_count": 50,
   "metadata": {},
   "outputs": [
    {
     "data": {
      "image/png": "[encoded data removed]",
      "text/plain": [
       "<Figure size 432x288 with 1 Axes>"
      ]
     },
     "metadata": {
      "needs_background": "light"
     },
     "output_type": "display_data"
    }
   ],
   "source": [
    "feature_importances = pd.Series(rf.feature_importances_, index=X.columns)\n",
    "feature_importances.nlargest(10).plot(kind='barh')  # Top 10 features\n",
    "plt.show()"
   ]
  },
  {
   "cell_type": "code",
   "execution_count": 51,
   "metadata": {},
   "outputs": [
    {
     "name": "stdout",
     "output_type": "stream",
     "text": [
      "<<<<<<<<<<<<<<<<<<<PART 9 FINISHED>>>>>>>>>>>>>>>>>>>>>>>>\n"
     ]
    }
   ],
   "source": [
    "print(\"<<<<<<<<<<<<<<<<<<<PART 9 FINISHED>>>>>>>>>>>>>>>>>>>>>>>>\")"
   ]
  },
  {
   "cell_type": "code",
   "execution_count": null,
   "metadata": {},
   "outputs": [],
   "source": []
  }
 ],
 "metadata": {
  "kernelspec": {
   "display_name": ".venv",
   "language": "python",
   "name": "python3"
  },
  "language_info": {
   "codemirror_mode": {
    "name": "ipython",
    "version": 3
   },
   "file_extension": ".py",
   "mimetype": "text/x-python",
   "name": "python",
   "nbconvert_exporter": "python",
   "pygments_lexer": "ipython3",
   "version": "3.8.0"
  }
 },
 "nbformat": 4,
 "nbformat_minor": 2
}
