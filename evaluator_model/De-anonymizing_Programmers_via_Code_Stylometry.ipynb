{
 "cells": [
  {
   "cell_type": "code",
   "execution_count": 1,
   "metadata": {},
   "outputs": [],
   "source": [
    "import json\n",
    "import random\n",
    "import warnings\n",
    "import numpy as np\n",
    "import pandas as pd\n",
    "import matplotlib.pyplot as plt\n",
    "from tqdm.notebook import tqdm\n",
    "\n",
    "from pathlib import Path\n",
    "from collections import defaultdict\n",
    "from features.utils import build_mapping_to_ids\n",
    "\n",
    "warnings.filterwarnings('ignore')"
   ]
  },
  {
   "cell_type": "markdown",
   "metadata": {},
   "source": [
    "# Data"
   ]
  },
  {
   "cell_type": "markdown",
   "metadata": {},
   "source": [
    "### Get all problems"
   ]
  },
  {
   "cell_type": "code",
   "execution_count": 2,
   "metadata": {},
   "outputs": [],
   "source": [
    "dataset = pd.read_csv(\"data/java_2000_dataset_code.csv\")"
   ]
  },
  {
   "cell_type": "code",
   "execution_count": 3,
   "metadata": {},
   "outputs": [],
   "source": [
    "# Drop rows where null values exist in 'focal_class_code' or 'test_class_code'\n",
    "dataset.dropna(subset=['focal_class_code', 'test_class_code'], inplace=True)"
   ]
  },
  {
   "cell_type": "code",
   "execution_count": 4,
   "metadata": {},
   "outputs": [],
   "source": [
    "# dataset.head()"
   ]
  },
  {
   "cell_type": "code",
   "execution_count": 5,
   "metadata": {},
   "outputs": [],
   "source": [
    "# dataset.info()"
   ]
  },
  {
   "cell_type": "code",
   "execution_count": 6,
   "metadata": {},
   "outputs": [],
   "source": [
    "# dataset.isnull().sum()"
   ]
  },
  {
   "cell_type": "code",
   "execution_count": 7,
   "metadata": {},
   "outputs": [
    {
     "name": "stdout",
     "output_type": "stream",
     "text": [
      "<<<<<<<<<<<<<<<<<<<PART 1 FINISHED>>>>>>>>>>>>>>>>>>>>>>>>\n"
     ]
    }
   ],
   "source": [
    "print(\"<<<<<<<<<<<<<<<<<<<PART 1 FINISHED>>>>>>>>>>>>>>>>>>>>>>>>\")"
   ]
  },
  {
   "cell_type": "markdown",
   "metadata": {},
   "source": [
    "# Build dataset"
   ]
  },
  {
   "cell_type": "code",
   "execution_count": 8,
   "metadata": {},
   "outputs": [],
   "source": [
    "from features import *\n",
    "from sklearn.feature_selection import mutual_info_regression\n",
    "import gc  # Garbage Collector interface"
   ]
  },
  {
   "cell_type": "code",
   "execution_count": 9,
   "metadata": {},
   "outputs": [],
   "source": [
    "def codes_with_ids_builder(chunk):\n",
    "    # Dummy function to represent your actual feature calculation\n",
    "    # Replace this with your actual function\n",
    "    return [{'repo_id': row['repo_id'], 'code': row['focal_class_code']} for _, row in chunk.iterrows()]"
   ]
  },
  {
   "cell_type": "code",
   "execution_count": 10,
   "metadata": {},
   "outputs": [],
   "source": [
    "# 'dataset' is the large initial DataFrame\n",
    "chunks = np.array_split(dataset, 10)\n",
    "samplesdf = pd.DataFrame()"
   ]
  },
  {
   "cell_type": "code",
   "execution_count": 11,
   "metadata": {},
   "outputs": [],
   "source": [
    "processed_frames = []  # To collect processed DataFrames\n",
    "for chunk in chunks:\n",
    "    codes_with_ids = codes_with_ids_builder(chunk)\n",
    "    \n",
    "    samples = calculate_features_for_files(codes_with_ids)\n",
    "    \n",
    "    # Convert the processed chunk to DataFrame and add to the list\n",
    "    processed_frames.append(pd.DataFrame(samples))\n",
    "    \n",
    "    # Clean up to manage memory\n",
    "    del chunk  # Delete the chunk to free memory\n",
    "    gc.collect()  # Explicitly call garbage collection\n"
   ]
  },
  {
   "cell_type": "code",
   "execution_count": 12,
   "metadata": {},
   "outputs": [
    {
     "name": "stdout",
     "output_type": "stream",
     "text": [
      "<class 'pandas.core.frame.DataFrame'>\n",
      "RangeIndex: 1914 entries, 0 to 1913\n",
      "Columns: 109 entries, MaxDepthASTNode to whiteSpaceRatio\n",
      "dtypes: float64(105), int64(4)\n",
      "memory usage: 1.6 MB\n",
      "None\n"
     ]
    }
   ],
   "source": [
    "# Concatenate all processed chunks into a single DataFrame\n",
    "samplesdf = pd.concat(processed_frames, ignore_index=True)\n",
    "print(samplesdf.info())"
   ]
  },
  {
   "cell_type": "code",
   "execution_count": 13,
   "metadata": {},
   "outputs": [
    {
     "data": {
      "text/plain": [
       "0"
      ]
     },
     "execution_count": 13,
     "metadata": {},
     "output_type": "execute_result"
    }
   ],
   "source": [
    "# Clean up processed_frames list to free up memory\n",
    "del processed_frames\n",
    "gc.collect()"
   ]
  },
  {
   "cell_type": "code",
   "execution_count": 14,
   "metadata": {},
   "outputs": [
    {
     "data": {
      "text/plain": [
       "\"\\ncodes_with_ids = [{'repo_id': row['repo_id'], 'code': row['focal_class_code']} for index, row in dataset.iterrows()]\\n\\nsamples = calculate_features_for_files(codes_with_ids)\\n\""
      ]
     },
     "execution_count": 14,
     "metadata": {},
     "output_type": "execute_result"
    }
   ],
   "source": [
    "# codes = dataset['focal_class_code'].values  # Assuming 'code_column' is the name of your column with the code\n",
    "\"\"\"\n",
    "codes_with_ids = [{'repo_id': row['repo_id'], 'code': row['focal_class_code']} for index, row in dataset.iterrows()]\n",
    "\n",
    "samples = calculate_features_for_files(codes_with_ids)\n",
    "\"\"\""
   ]
  },
  {
   "cell_type": "code",
   "execution_count": 15,
   "metadata": {},
   "outputs": [
    {
     "name": "stdout",
     "output_type": "stream",
     "text": [
      "<<<<<<<<<<<<<<<<<<<PART 2 FINISHED>>>>>>>>>>>>>>>>>>>>>>>>\n"
     ]
    }
   ],
   "source": [
    "print(\"<<<<<<<<<<<<<<<<<<<PART 2 FINISHED>>>>>>>>>>>>>>>>>>>>>>>>\")"
   ]
  },
  {
   "cell_type": "markdown",
   "metadata": {},
   "source": [
    "### Minor EDA for samples"
   ]
  },
  {
   "cell_type": "code",
   "execution_count": 16,
   "metadata": {},
   "outputs": [
    {
     "data": {
      "text/plain": [
       "'\\nsamplesdf = pd.DataFrame(samples) \\n'"
      ]
     },
     "execution_count": 16,
     "metadata": {},
     "output_type": "execute_result"
    }
   ],
   "source": [
    "\"\"\"\n",
    "samplesdf = pd.DataFrame(samples) \n",
    "\"\"\""
   ]
  },
  {
   "cell_type": "code",
   "execution_count": 17,
   "metadata": {},
   "outputs": [],
   "source": [
    "# import dask.dataframe as dd\n",
    "# Convert the samples list to a Dask DataFrame\n",
    "# samplesdf = dd.from_pandas(pd.DataFrame(samples), npartitions=10)  # Adjust npartitions based on your dataset and system"
   ]
  },
  {
   "cell_type": "code",
   "execution_count": 18,
   "metadata": {},
   "outputs": [],
   "source": [
    "# samplesdf.shape"
   ]
  },
  {
   "cell_type": "code",
   "execution_count": 19,
   "metadata": {},
   "outputs": [],
   "source": [
    "column_name = 'repo_id'\n",
    "# Pop the column out of the DataFrame\n",
    "desired_column = samplesdf.pop(column_name)\n",
    "# Reinsert it at the beginning of the DataFrame\n",
    "samplesdf.insert(0, column_name, desired_column)"
   ]
  },
  {
   "cell_type": "code",
   "execution_count": 20,
   "metadata": {},
   "outputs": [],
   "source": [
    "# samplesdf.head()"
   ]
  },
  {
   "cell_type": "code",
   "execution_count": 21,
   "metadata": {},
   "outputs": [],
   "source": [
    "# columns_to_check = [\n",
    "#     \"WordUnigramTF\",\n",
    "#     \"In(numkeywords/length)\",\n",
    "#     \"In(numTernary/length)\",\n",
    "#     \"In(numTokens/length)\",\n",
    "#     \"In(numComments/length)\",\n",
    "#     \"In(numLiterals/length)\",\n",
    "#     \"In(numKeywords/length)\",\n",
    "#     \"In(numFunctions/length)\",\n",
    "#     \"In(numMacros/length)\",\n",
    "#     \"nestingDepth\",\n",
    "#     \"branchingFactor\",\n",
    "#     \"avgParams\",\n",
    "#     \"stdDevNumParams\",\n",
    "#     \"avgLineLength\",\n",
    "#     \"stdDevLineLength\",\n",
    "#     \"In(numTabs/length)\",\n",
    "#     \"In(numSpaces/length)\",\n",
    "#     \"In(numEmptyLines/length)\",\n",
    "#     \"whiteSpaceRatio\",\n",
    "#     \"newLineBeforeOpenBrace\",\n",
    "#     \"tabsLeadLines\",\n",
    "#     \"MaxDepthASTNode\",\n",
    "#     \"ASTNodeBigramsTF\",\n",
    "#     \"ASTNodeTypesTF\",\n",
    "#     \"ASTNodeTypesTFIDF\",\n",
    "#     \"ASTNodeTypeAvgDep\",\n",
    "#     \"cppKeywords\",\n",
    "#     \"CodeInASTLeavesTF\",\n",
    "#     \"CodeInASTLeavesTFIDF\",\n",
    "#     \"CodeInASTLeavesAvgDep\"\n",
    "# ]\n",
    "\n",
    "# # Function to clean column names\n",
    "# def clean_column_name(name):\n",
    "#     return name.replace(\" \", \"\").replace(\"In\", \"ln\").lower()\n",
    "\n",
    "# # Clean DataFrame column names\n",
    "# samplesdf.columns = [clean_column_name(name) for name in samplesdf.columns]\n",
    "\n",
    "# # Check each column\n",
    "# for col in columns_to_check:\n",
    "#     cleaned_col = clean_column_name(col)\n",
    "#     if cleaned_col in samplesdf.columns:\n",
    "#         print(f\"Column '{col}' exists in the DataFrame.\")\n",
    "#     else:\n",
    "#         print(f\"Column '{col}' does NOT exist in the DataFrame.\")"
   ]
  },
  {
   "cell_type": "code",
   "execution_count": 22,
   "metadata": {},
   "outputs": [
    {
     "name": "stdout",
     "output_type": "stream",
     "text": [
      "<<<<<<<<<<<<<<<<<<<PART 3 FINISHED>>>>>>>>>>>>>>>>>>>>>>>>\n"
     ]
    }
   ],
   "source": [
    "print(\"<<<<<<<<<<<<<<<<<<<PART 3 FINISHED>>>>>>>>>>>>>>>>>>>>>>>>\")"
   ]
  },
  {
   "cell_type": "markdown",
   "metadata": {},
   "source": [
    "## Build X and Y "
   ]
  },
  {
   "cell_type": "code",
   "execution_count": 23,
   "metadata": {},
   "outputs": [],
   "source": [
    "import pandas as pd\n",
    "from sklearn.model_selection import train_test_split\n",
    "from sklearn.feature_selection import mutual_info_regression\n",
    "import numpy as np"
   ]
  },
  {
   "cell_type": "code",
   "execution_count": 24,
   "metadata": {},
   "outputs": [],
   "source": [
    "y = samplesdf['repo_id']\n",
    "X = samplesdf.drop(columns=['repo_id'])"
   ]
  },
  {
   "cell_type": "code",
   "execution_count": 25,
   "metadata": {},
   "outputs": [],
   "source": [
    "X.fillna(0, inplace=True)\n",
    "# X = X.fillna(0)\n",
    "# y = y.fillna(0)"
   ]
  },
  {
   "cell_type": "code",
   "execution_count": 26,
   "metadata": {},
   "outputs": [
    {
     "name": "stdout",
     "output_type": "stream",
     "text": [
      "<<<<<<<<<<<<<<<<<<<PART 4 FINISHED>>>>>>>>>>>>>>>>>>>>>>>>\n"
     ]
    }
   ],
   "source": [
    "print(\"<<<<<<<<<<<<<<<<<<<PART 4 FINISHED>>>>>>>>>>>>>>>>>>>>>>>>\")"
   ]
  },
  {
   "cell_type": "markdown",
   "metadata": {},
   "source": [
    "### Select the best 1500 features according to mutual information"
   ]
  },
  {
   "cell_type": "code",
   "execution_count": 27,
   "metadata": {},
   "outputs": [],
   "source": [
    "# Convert to numpy array for mutual information calculation if needed\n",
    "X_np = X.to_numpy(dtype=np.float32)\n",
    "\n",
    "# Replace inf/-inf with large finite numbers (if infinities are expected)\n",
    "X_np = np.where(np.isinf(X_np), np.finfo(np.float32).max, X_np)\n",
    "\n",
    "#--------------------\n",
    "\n",
    "# X_small = X.compute()  # Converts the Dask DataFrame to a pandas DataFrame\n",
    "# y_small = y.compute()\n",
    "\n",
    "# X_small = X_small.replace([np.inf, -np.inf], np.finfo(np.float32).max)\n",
    "# X_small[X_small > np.finfo(np.float32).max] = np.finfo(np.float32).max\n",
    "# X_small[X_small < np.finfo(np.float32).min] = np.finfo(np.float32).min\n",
    "\n",
    "# X_np = X_small.astype(np.float32).to_numpy()\n",
    "# y_np = y_small.to_numpy()"
   ]
  },
  {
   "cell_type": "code",
   "execution_count": 28,
   "metadata": {},
   "outputs": [
    {
     "name": "stdout",
     "output_type": "stream",
     "text": [
      "<<<<<<<<<<<<<<<<<<<PART 5 FINISHED>>>>>>>>>>>>>>>>>>>>>>>>\n"
     ]
    }
   ],
   "source": [
    "print(\"<<<<<<<<<<<<<<<<<<<PART 5 FINISHED>>>>>>>>>>>>>>>>>>>>>>>>\")"
   ]
  },
  {
   "cell_type": "code",
   "execution_count": 29,
   "metadata": {},
   "outputs": [],
   "source": [
    "# Calculate mutual information\n",
    "# mi = mutual_info_regression(X_np, y, random_state=0)\n",
    "# mi /= np.max(mi)  # Normalize mutual information scores for better comparison\n",
    "\n",
    "# # Select the top 1500 features\n",
    "# mi_indices = np.argsort(mi)[-1500:]  # Get indices of top 1500 features\n",
    "# selected_features = X.columns[mi_indices]  # Get feature names\n",
    "# X = X[selected_features]  # Subset X to keep only selected features\n",
    "\n",
    "# print(f'Number of samples: {X.shape[0]}')\n",
    "# print(f'Number of features: {X.shape[1]}')\n",
    "\n",
    "#------------------------\n",
    "# # Calculate mutual information\n",
    "# mi = mutual_info_regression(X_np, y.compute(), random_state=0)  # Ensure y is also prepared for this operation\n",
    "# mi /= np.max(mi)  # Normalize mutual information scores for better comparison\n",
    "\n",
    "# # Select the top 1500 features\n",
    "# mi_indices = np.argsort(mi)[-1500:]  # Get indices of top 1500 features\n",
    "# selected_features = X_small.columns[mi_indices]  # Get feature names\n",
    "# X_selected = X_small[selected_features]  # Subset X to keep only selected features\n",
    "\n",
    "# print(f'Number of samples: {X_selected.shape[0]}')\n",
    "# print(f'Number of features: {X_selected.shape[1]}')\n"
   ]
  },
  {
   "cell_type": "code",
   "execution_count": 30,
   "metadata": {},
   "outputs": [
    {
     "name": "stdout",
     "output_type": "stream",
     "text": [
      "<<<<<<<<<<<<<<<<<<<PART 6 FINISHED>>>>>>>>>>>>>>>>>>>>>>>>\n"
     ]
    }
   ],
   "source": [
    "print(\"<<<<<<<<<<<<<<<<<<<PART 6 FINISHED>>>>>>>>>>>>>>>>>>>>>>>>\")"
   ]
  },
  {
   "cell_type": "code",
   "execution_count": 31,
   "metadata": {},
   "outputs": [
    {
     "data": {
      "text/html": [
       "<div>\n",
       "<style scoped>\n",
       "    .dataframe tbody tr th:only-of-type {\n",
       "        vertical-align: middle;\n",
       "    }\n",
       "\n",
       "    .dataframe tbody tr th {\n",
       "        vertical-align: top;\n",
       "    }\n",
       "\n",
       "    .dataframe thead th {\n",
       "        text-align: right;\n",
       "    }\n",
       "</style>\n",
       "<table border=\"1\" class=\"dataframe\">\n",
       "  <thead>\n",
       "    <tr style=\"text-align: right;\">\n",
       "      <th></th>\n",
       "      <th>MaxDepthASTNode</th>\n",
       "      <th>avgLineLength</th>\n",
       "      <th>avgParams</th>\n",
       "      <th>javaKeywords_abstract</th>\n",
       "      <th>javaKeywords_assert</th>\n",
       "      <th>javaKeywords_boolean</th>\n",
       "      <th>javaKeywords_break</th>\n",
       "      <th>javaKeywords_byte</th>\n",
       "      <th>javaKeywords_case</th>\n",
       "      <th>javaKeywords_catch</th>\n",
       "      <th>...</th>\n",
       "      <th>ln(num_transient/length)</th>\n",
       "      <th>ln(num_try/length)</th>\n",
       "      <th>ln(num_void/length)</th>\n",
       "      <th>ln(num_volatile/length)</th>\n",
       "      <th>ln(num_while/length)</th>\n",
       "      <th>newLineBeforeOpenBrace</th>\n",
       "      <th>stdDevLineLength</th>\n",
       "      <th>stdDevNumParams</th>\n",
       "      <th>tabsLeadLines</th>\n",
       "      <th>whiteSpaceRatio</th>\n",
       "    </tr>\n",
       "  </thead>\n",
       "  <tbody>\n",
       "    <tr>\n",
       "      <th>0</th>\n",
       "      <td>10</td>\n",
       "      <td>25.145833</td>\n",
       "      <td>0.500000</td>\n",
       "      <td>0.0</td>\n",
       "      <td>0.0</td>\n",
       "      <td>0.04</td>\n",
       "      <td>0.0</td>\n",
       "      <td>0.0</td>\n",
       "      <td>0.0</td>\n",
       "      <td>0.0</td>\n",
       "      <td>...</td>\n",
       "      <td>0.0</td>\n",
       "      <td>0.0</td>\n",
       "      <td>0.0</td>\n",
       "      <td>0.0</td>\n",
       "      <td>0.0</td>\n",
       "      <td>0</td>\n",
       "      <td>26.861520</td>\n",
       "      <td>0.500000</td>\n",
       "      <td>0</td>\n",
       "      <td>0.290123</td>\n",
       "    </tr>\n",
       "    <tr>\n",
       "      <th>1</th>\n",
       "      <td>7</td>\n",
       "      <td>28.187500</td>\n",
       "      <td>2.333333</td>\n",
       "      <td>0.0</td>\n",
       "      <td>0.0</td>\n",
       "      <td>0.00</td>\n",
       "      <td>0.0</td>\n",
       "      <td>0.0</td>\n",
       "      <td>0.0</td>\n",
       "      <td>0.0</td>\n",
       "      <td>...</td>\n",
       "      <td>0.0</td>\n",
       "      <td>0.0</td>\n",
       "      <td>0.0</td>\n",
       "      <td>0.0</td>\n",
       "      <td>0.0</td>\n",
       "      <td>0</td>\n",
       "      <td>30.402958</td>\n",
       "      <td>0.471405</td>\n",
       "      <td>0</td>\n",
       "      <td>0.211688</td>\n",
       "    </tr>\n",
       "    <tr>\n",
       "      <th>2</th>\n",
       "      <td>7</td>\n",
       "      <td>28.187500</td>\n",
       "      <td>2.333333</td>\n",
       "      <td>0.0</td>\n",
       "      <td>0.0</td>\n",
       "      <td>0.00</td>\n",
       "      <td>0.0</td>\n",
       "      <td>0.0</td>\n",
       "      <td>0.0</td>\n",
       "      <td>0.0</td>\n",
       "      <td>...</td>\n",
       "      <td>0.0</td>\n",
       "      <td>0.0</td>\n",
       "      <td>0.0</td>\n",
       "      <td>0.0</td>\n",
       "      <td>0.0</td>\n",
       "      <td>0</td>\n",
       "      <td>30.402958</td>\n",
       "      <td>0.471405</td>\n",
       "      <td>0</td>\n",
       "      <td>0.211688</td>\n",
       "    </tr>\n",
       "    <tr>\n",
       "      <th>3</th>\n",
       "      <td>7</td>\n",
       "      <td>28.187500</td>\n",
       "      <td>2.333333</td>\n",
       "      <td>0.0</td>\n",
       "      <td>0.0</td>\n",
       "      <td>0.00</td>\n",
       "      <td>0.0</td>\n",
       "      <td>0.0</td>\n",
       "      <td>0.0</td>\n",
       "      <td>0.0</td>\n",
       "      <td>...</td>\n",
       "      <td>0.0</td>\n",
       "      <td>0.0</td>\n",
       "      <td>0.0</td>\n",
       "      <td>0.0</td>\n",
       "      <td>0.0</td>\n",
       "      <td>0</td>\n",
       "      <td>30.402958</td>\n",
       "      <td>0.471405</td>\n",
       "      <td>0</td>\n",
       "      <td>0.211688</td>\n",
       "    </tr>\n",
       "    <tr>\n",
       "      <th>4</th>\n",
       "      <td>9</td>\n",
       "      <td>40.500000</td>\n",
       "      <td>1.500000</td>\n",
       "      <td>0.0</td>\n",
       "      <td>0.0</td>\n",
       "      <td>0.00</td>\n",
       "      <td>0.0</td>\n",
       "      <td>0.0</td>\n",
       "      <td>0.0</td>\n",
       "      <td>0.0</td>\n",
       "      <td>...</td>\n",
       "      <td>0.0</td>\n",
       "      <td>0.0</td>\n",
       "      <td>0.0</td>\n",
       "      <td>0.0</td>\n",
       "      <td>0.0</td>\n",
       "      <td>0</td>\n",
       "      <td>43.037774</td>\n",
       "      <td>0.500000</td>\n",
       "      <td>0</td>\n",
       "      <td>0.181017</td>\n",
       "    </tr>\n",
       "  </tbody>\n",
       "</table>\n",
       "<p>5 rows × 108 columns</p>\n",
       "</div>"
      ],
      "text/plain": [
       "   MaxDepthASTNode  avgLineLength  avgParams  javaKeywords_abstract  \\\n",
       "0               10      25.145833   0.500000                    0.0   \n",
       "1                7      28.187500   2.333333                    0.0   \n",
       "2                7      28.187500   2.333333                    0.0   \n",
       "3                7      28.187500   2.333333                    0.0   \n",
       "4                9      40.500000   1.500000                    0.0   \n",
       "\n",
       "   javaKeywords_assert  javaKeywords_boolean  javaKeywords_break  \\\n",
       "0                  0.0                  0.04                 0.0   \n",
       "1                  0.0                  0.00                 0.0   \n",
       "2                  0.0                  0.00                 0.0   \n",
       "3                  0.0                  0.00                 0.0   \n",
       "4                  0.0                  0.00                 0.0   \n",
       "\n",
       "   javaKeywords_byte  javaKeywords_case  javaKeywords_catch  ...  \\\n",
       "0                0.0                0.0                 0.0  ...   \n",
       "1                0.0                0.0                 0.0  ...   \n",
       "2                0.0                0.0                 0.0  ...   \n",
       "3                0.0                0.0                 0.0  ...   \n",
       "4                0.0                0.0                 0.0  ...   \n",
       "\n",
       "   ln(num_transient/length)  ln(num_try/length)  ln(num_void/length)  \\\n",
       "0                       0.0                 0.0                  0.0   \n",
       "1                       0.0                 0.0                  0.0   \n",
       "2                       0.0                 0.0                  0.0   \n",
       "3                       0.0                 0.0                  0.0   \n",
       "4                       0.0                 0.0                  0.0   \n",
       "\n",
       "   ln(num_volatile/length)  ln(num_while/length)  newLineBeforeOpenBrace  \\\n",
       "0                      0.0                   0.0                       0   \n",
       "1                      0.0                   0.0                       0   \n",
       "2                      0.0                   0.0                       0   \n",
       "3                      0.0                   0.0                       0   \n",
       "4                      0.0                   0.0                       0   \n",
       "\n",
       "   stdDevLineLength  stdDevNumParams  tabsLeadLines  whiteSpaceRatio  \n",
       "0         26.861520         0.500000              0         0.290123  \n",
       "1         30.402958         0.471405              0         0.211688  \n",
       "2         30.402958         0.471405              0         0.211688  \n",
       "3         30.402958         0.471405              0         0.211688  \n",
       "4         43.037774         0.500000              0         0.181017  \n",
       "\n",
       "[5 rows x 108 columns]"
      ]
     },
     "execution_count": 31,
     "metadata": {},
     "output_type": "execute_result"
    }
   ],
   "source": [
    "X.head()"
   ]
  },
  {
   "cell_type": "code",
   "execution_count": 32,
   "metadata": {},
   "outputs": [
    {
     "data": {
      "text/plain": [
       "0"
      ]
     },
     "execution_count": 32,
     "metadata": {},
     "output_type": "execute_result"
    }
   ],
   "source": [
    "X.isnull().all(axis=1).sum() # Rows with all columns null"
   ]
  },
  {
   "cell_type": "code",
   "execution_count": 33,
   "metadata": {},
   "outputs": [
    {
     "data": {
      "text/plain": [
       "MaxDepthASTNode           0\n",
       "avgLineLength             0\n",
       "avgParams                 0\n",
       "javaKeywords_abstract     0\n",
       "javaKeywords_assert       0\n",
       "                         ..\n",
       "newLineBeforeOpenBrace    0\n",
       "stdDevLineLength          0\n",
       "stdDevNumParams           0\n",
       "tabsLeadLines             0\n",
       "whiteSpaceRatio           0\n",
       "Length: 108, dtype: int64"
      ]
     },
     "execution_count": 33,
     "metadata": {},
     "output_type": "execute_result"
    }
   ],
   "source": [
    "X.isnull().sum()"
   ]
  },
  {
   "cell_type": "code",
   "execution_count": 34,
   "metadata": {},
   "outputs": [
    {
     "name": "stdout",
     "output_type": "stream",
     "text": [
      "<<<<<<<<<<<<<<<<<<<PART 7 FINISHED>>>>>>>>>>>>>>>>>>>>>>>>\n"
     ]
    }
   ],
   "source": [
    "print(\"<<<<<<<<<<<<<<<<<<<PART 7 FINISHED>>>>>>>>>>>>>>>>>>>>>>>>\")"
   ]
  },
  {
   "cell_type": "markdown",
   "metadata": {},
   "source": [
    "# Classification"
   ]
  },
  {
   "cell_type": "code",
   "execution_count": 35,
   "metadata": {},
   "outputs": [],
   "source": [
    "from sklearn.model_selection import train_test_split"
   ]
  },
  {
   "cell_type": "code",
   "execution_count": 36,
   "metadata": {},
   "outputs": [],
   "source": [
    "# Find classes with more than one instance\n",
    "class_counts = y.value_counts()\n",
    "valid_classes = class_counts[class_counts > 1].index\n",
    "\n",
    "# Filter your dataset\n",
    "valid_indices = y[y.isin(valid_classes)].index\n",
    "X_filtered = X.loc[valid_indices]\n",
    "y_filtered = y.loc[valid_indices]"
   ]
  },
  {
   "cell_type": "code",
   "execution_count": 37,
   "metadata": {},
   "outputs": [],
   "source": [
    "# X_train, X_test, y_train, y_test = train_test_split(X, y, test_size=0.2, random_state=42, stratify=y)\n",
    "\n",
    "X_train, X_test, y_train, y_test = train_test_split(X_filtered, y_filtered, test_size=0.2, random_state=42, stratify=y_filtered)"
   ]
  },
  {
   "cell_type": "code",
   "execution_count": 38,
   "metadata": {},
   "outputs": [],
   "source": [
    "# X_train, X_test, y_train, y_test = train_test_split(X, y, test_size=0.2, random_state=42, stratify=y)"
   ]
  },
  {
   "cell_type": "code",
   "execution_count": 39,
   "metadata": {},
   "outputs": [
    {
     "name": "stdout",
     "output_type": "stream",
     "text": [
      "Test Accuracy: 0.9869\n"
     ]
    }
   ],
   "source": [
    "from sklearn.ensemble import RandomForestClassifier\n",
    "from sklearn.metrics import accuracy_score\n",
    "\n",
    "# Initialize the Random Forest classifier\n",
    "rf = RandomForestClassifier(n_estimators=100, random_state=42)\n",
    "\n",
    "# Train the model\n",
    "rf.fit(X_train, y_train)\n",
    "\n",
    "# Predict on the test set\n",
    "y_pred = rf.predict(X_test)\n",
    "\n",
    "# Evaluate the model\n",
    "accuracy = accuracy_score(y_test, y_pred)\n",
    "print(f'Test Accuracy: {accuracy:.4f}')"
   ]
  },
  {
   "cell_type": "code",
   "execution_count": 40,
   "metadata": {},
   "outputs": [
    {
     "name": "stdout",
     "output_type": "stream",
     "text": [
      "<<<<<<<<<<<<<<<<<<<PART 8 FINISHED>>>>>>>>>>>>>>>>>>>>>>>>\n"
     ]
    }
   ],
   "source": [
    "print(\"<<<<<<<<<<<<<<<<<<<PART 8 FINISHED>>>>>>>>>>>>>>>>>>>>>>>>\")"
   ]
  },
  {
   "cell_type": "markdown",
   "metadata": {},
   "source": [
    "## Saving the trained model"
   ]
  },
  {
   "cell_type": "code",
   "execution_count": 41,
   "metadata": {},
   "outputs": [],
   "source": [
    "import pickle\n",
    "from sklearn.datasets import load_iris\n",
    "from sklearn.model_selection import train_test_split\n",
    "from sklearn.ensemble import RandomForestClassifier"
   ]
  },
  {
   "cell_type": "code",
   "execution_count": 42,
   "metadata": {},
   "outputs": [
    {
     "name": "stdout",
     "output_type": "stream",
     "text": [
      "Model saved successfully to models/2000_dataset_model.pkl\n"
     ]
    }
   ],
   "source": [
    "# Save the trained model to a file\n",
    "model_filename = 'models/2000_dataset_model.pkl'\n",
    "\n",
    "with open(model_filename, 'wb') as file:\n",
    "    pickle.dump(rf, file)\n",
    "\n",
    "print(f'Model saved successfully to {model_filename}')"
   ]
  },
  {
   "cell_type": "markdown",
   "metadata": {},
   "source": [
    "# Validation"
   ]
  },
  {
   "cell_type": "markdown",
   "metadata": {},
   "source": [
    "### Cross-Validation"
   ]
  },
  {
   "cell_type": "code",
   "execution_count": 43,
   "metadata": {},
   "outputs": [
    {
     "name": "stdout",
     "output_type": "stream",
     "text": [
      "CV Accuracy Scores: [0.99477807 0.98694517 0.98172324 0.96866841 0.97643979]\n",
      "CV Accuracy: 0.98 (+/- 0.02)\n"
     ]
    }
   ],
   "source": [
    "from sklearn.model_selection import cross_val_score\n",
    "\n",
    "# Perform 5-fold cross-validation\n",
    "cv_scores = cross_val_score(rf, X, y, cv=5)\n",
    "\n",
    "print(\"CV Accuracy Scores:\", cv_scores)\n",
    "print(\"CV Accuracy: %0.2f (+/- %0.2f)\" % (cv_scores.mean(), cv_scores.std() * 2))"
   ]
  },
  {
   "cell_type": "markdown",
   "metadata": {},
   "source": [
    "### Precision, Recall, and F1 Score"
   ]
  },
  {
   "cell_type": "code",
   "execution_count": 44,
   "metadata": {},
   "outputs": [
    {
     "name": "stdout",
     "output_type": "stream",
     "text": [
      "              precision    recall  f1-score   support\n",
      "\n",
      "     6766558       1.00      0.97      0.99        35\n",
      "    16611556       1.00      1.00      1.00        35\n",
      "    17898911       0.99      1.00      0.99        68\n",
      "    34861263       1.00      1.00      1.00         1\n",
      "    41263775       0.98      1.00      0.99        55\n",
      "    41307987       1.00      1.00      1.00         3\n",
      "    42557838       0.97      0.97      0.97        29\n",
      "    44512524       1.00      0.97      0.99        80\n",
      "    58314354       1.00      1.00      1.00         1\n",
      "    59021106       1.00      0.80      0.89         5\n",
      "    59801168       1.00      1.00      1.00         1\n",
      "    81368488       0.97      1.00      0.99        37\n",
      "   102814088       1.00      1.00      1.00         4\n",
      "   173924701       1.00      1.00      1.00         1\n",
      "   181421086       0.96      1.00      0.98        26\n",
      "   183214896       1.00      1.00      1.00         1\n",
      "   188705852       1.00      1.00      1.00         1\n",
      "\n",
      "    accuracy                           0.99       383\n",
      "   macro avg       0.99      0.98      0.99       383\n",
      "weighted avg       0.99      0.99      0.99       383\n",
      "\n"
     ]
    }
   ],
   "source": [
    "from sklearn.metrics import classification_report\n",
    "\n",
    "print(classification_report(y_test, y_pred))"
   ]
  },
  {
   "cell_type": "markdown",
   "metadata": {},
   "source": [
    "### ROC Curve and AUC Score"
   ]
  },
  {
   "cell_type": "code",
   "execution_count": 45,
   "metadata": {},
   "outputs": [
    {
     "name": "stdout",
     "output_type": "stream",
     "text": [
      "ROC AUC Score: 0.9999648300210002\n"
     ]
    }
   ],
   "source": [
    "from sklearn.metrics import roc_auc_score, roc_curve\n",
    "from sklearn.preprocessing import label_binarize\n",
    "\n",
    "# Binarize y_test and y_pred for multi-class ROC AUC calculation\n",
    "y_test_binarized = label_binarize(y_test, classes=np.unique(y))\n",
    "y_pred_proba = rf.predict_proba(X_test)\n",
    "\n",
    "# Compute AUC\n",
    "roc_auc = roc_auc_score(y_test_binarized, y_pred_proba, multi_class=\"ovr\")\n",
    "\n",
    "print(\"ROC AUC Score:\", roc_auc)\n",
    "\n",
    "# For plotting ROC curves for each class, you'd iterate through classes and calculate ROC curve per class"
   ]
  },
  {
   "cell_type": "markdown",
   "metadata": {},
   "source": [
    "### Feature Importances"
   ]
  },
  {
   "cell_type": "code",
   "execution_count": 46,
   "metadata": {},
   "outputs": [
    {
     "data": {
      "image/png": "[encoded data removed]",
      "text/plain": [
       "<Figure size 432x288 with 1 Axes>"
      ]
     },
     "metadata": {
      "needs_background": "light"
     },
     "output_type": "display_data"
    },
    {
     "name": "stdout",
     "output_type": "stream",
     "text": [
      "None\n"
     ]
    }
   ],
   "source": [
    "feature_importances = pd.Series(rf.feature_importances_, index=X.columns)\n",
    "feature_importances.nlargest(10).plot(kind='barh')  # Top 10 features\n",
    "print(plt.show())"
   ]
  }
 ],
 "metadata": {
  "kernelspec": {
   "display_name": ".venv",
   "language": "python",
   "name": "python3"
  },
  "language_info": {
   "codemirror_mode": {
    "name": "ipython",
    "version": 3
   },
   "file_extension": ".py",
   "mimetype": "text/x-python",
   "name": "python",
   "nbconvert_exporter": "python",
   "pygments_lexer": "ipython3",
   "version": "3.6.8"
  }
 },
 "nbformat": 4,
 "nbformat_minor": 2
}
