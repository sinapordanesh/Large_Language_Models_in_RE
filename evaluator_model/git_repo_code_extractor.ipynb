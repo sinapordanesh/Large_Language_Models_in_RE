{
 "cells": [
  {
   "cell_type": "code",
   "execution_count": 1,
   "metadata": {},
   "outputs": [],
   "source": [
    "import pandas as pd\n",
    "import requests\n",
    "from requests.adapters import HTTPAdapter\n",
    "from requests.packages.urllib3.util.retry import Retry\n",
    "from concurrent.futures import ThreadPoolExecutor, as_completed\n",
    "from tqdm.notebook import tqdm  # Use tqdm.notebook for Jupyter Notebooks"
   ]
  },
  {
   "cell_type": "code",
   "execution_count": 7,
   "metadata": {},
   "outputs": [],
   "source": [
    "# Load the main dataset\n",
    "df = pd.read_csv(\"data/java_test_dataset.csv\")"
   ]
  },
  {
   "cell_type": "markdown",
   "metadata": {},
   "source": [
    "- consistent downloading process and stable connection, retry if it gets down\n",
    "- process stage representation and showing in terminal\n",
    "- thread for faster internet connection and communication \n",
    "- error handeling and pass if a file or repository dosnt exist (try main instead of master if a file content doesnt count). "
   ]
  },
  {
   "cell_type": "code",
   "execution_count": 9,
   "metadata": {},
   "outputs": [],
   "source": [
    "def get_requests_session():\n",
    "    session = requests.Session()\n",
    "    retries = Retry(total=5, backoff_factor=1, status_forcelist=[502, 503, 504])\n",
    "    session.mount('http://', HTTPAdapter(max_retries=retries))\n",
    "    session.mount('https://', HTTPAdapter(max_retries=retries))\n",
    "    return session\n",
    "\n",
    "def get_raw_content_url(github_url, file_path, branch='master'):\n",
    "    parts = github_url.split('/')\n",
    "    user, repo = parts[3], parts[4]\n",
    "    raw_url = f'https://raw.githubusercontent.com/{user}/{repo}/{branch}/{file_path}'\n",
    "    return raw_url\n",
    "\n",
    "def download_file_content(args):\n",
    "    url, focal_file_path, test_file_path, session = args\n",
    "    results = {}\n",
    "    for file_type, file_path in [('focal_class_code', focal_file_path), ('test_class_code', test_file_path)]:\n",
    "        for branch in ['master', 'main']:  # Try with 'master' first, then 'main'\n",
    "            raw_url = get_raw_content_url(url, file_path, branch)\n",
    "            try:\n",
    "                response = session.get(raw_url)\n",
    "                response.raise_for_status()\n",
    "                results[file_type] = response.text\n",
    "                break  # Break if successfully got the content\n",
    "            except requests.RequestException:\n",
    "                pass  # Try the next branch\n",
    "        if file_type not in results:  # If both attempts fail\n",
    "            results[file_type] = None\n",
    "    return results\n",
    "\n",
    "def download_files_concurrently(df):\n",
    "    session = get_requests_session()\n",
    "    with ThreadPoolExecutor(max_workers=20) as executor:\n",
    "        # Update to include both focal and test class file paths\n",
    "        tasks = [(row['url'], row['focal_class_file'], row['test_class_file'], session) for index, row in df.iterrows()]\n",
    "        futures = {executor.submit(download_file_content, task): index for index, task in enumerate(tasks)}\n",
    "\n",
    "        for future in tqdm(as_completed(futures), total=len(futures), desc=\"Downloading\"):\n",
    "            result = future.result()\n",
    "            index = futures[future]\n",
    "            # Assign the results to the new columns\n",
    "            df.at[index, 'focal_class_code'] = result['focal_class_code']\n",
    "            df.at[index, 'test_class_code'] = result['test_class_code']\n"
   ]
  },
  {
   "cell_type": "code",
   "execution_count": 10,
   "metadata": {},
   "outputs": [],
   "source": [
    "# The new columns initialized\n",
    "df['focal_class_code'] = None\n",
    "df['test_class_code'] = None"
   ]
  },
  {
   "cell_type": "code",
   "execution_count": 11,
   "metadata": {},
   "outputs": [
    {
     "data": {
      "application/vnd.jupyter.widget-view+json": {
       "model_id": "28a4a9686ed24b02bfa10658defdef47",
       "version_major": 2,
       "version_minor": 0
      },
      "text/plain": [
       "HBox(children=(FloatProgress(value=0.0, description='Downloading', max=78388.0, style=ProgressStyle(descriptio…"
      ]
     },
     "metadata": {},
     "output_type": "display_data"
    }
   ],
   "source": [
    "# Perform the downloading and updating\n",
    "download_files_concurrently(df)"
   ]
  },
  {
   "cell_type": "code",
   "execution_count": 6,
   "metadata": {},
   "outputs": [
    {
     "data": {
      "text/html": [
       "<div>\n",
       "<style scoped>\n",
       "    .dataframe tbody tr th:only-of-type {\n",
       "        vertical-align: middle;\n",
       "    }\n",
       "\n",
       "    .dataframe tbody tr th {\n",
       "        vertical-align: top;\n",
       "    }\n",
       "\n",
       "    .dataframe thead th {\n",
       "        text-align: right;\n",
       "    }\n",
       "</style>\n",
       "<table border=\"1\" class=\"dataframe\">\n",
       "  <thead>\n",
       "    <tr style=\"text-align: right;\">\n",
       "      <th></th>\n",
       "      <th>url</th>\n",
       "      <th>class_file</th>\n",
       "      <th>raw_content</th>\n",
       "    </tr>\n",
       "  </thead>\n",
       "  <tbody>\n",
       "    <tr>\n",
       "      <th>0</th>\n",
       "      <td>https://github.com/bytefish/JavaElasticSearchE...</td>\n",
       "      <td>JavaElasticSearchExperiment/src/main/java/csv/...</td>\n",
       "      <td>// Copyright (c) Philipp Wagner. All rights re...</td>\n",
       "    </tr>\n",
       "  </tbody>\n",
       "</table>\n",
       "</div>"
      ],
      "text/plain": [
       "                                                 url  \\\n",
       "0  https://github.com/bytefish/JavaElasticSearchE...   \n",
       "\n",
       "                                          class_file  \\\n",
       "0  JavaElasticSearchExperiment/src/main/java/csv/...   \n",
       "\n",
       "                                         raw_content  \n",
       "0  // Copyright (c) Philipp Wagner. All rights re...  "
      ]
     },
     "execution_count": 6,
     "metadata": {},
     "output_type": "execute_result"
    }
   ],
   "source": [
    "df.head()"
   ]
  },
  {
   "cell_type": "code",
   "execution_count": 5,
   "metadata": {},
   "outputs": [
    {
     "name": "stdout",
     "output_type": "stream",
     "text": [
      "// Copyright (c) Philipp Wagner. All rights reserved.\n",
      "// Licensed under the MIT license. See LICENSE file in the project root for full license information.\n",
      "\n",
      "package csv.converter;\n",
      "\n",
      "import de.bytefish.jtinycsvparser.typeconverter.ITypeConverter;\n",
      "import utils.StringUtils;\n",
      "\n",
      "import java.lang.reflect.Type;\n",
      "import java.util.Arrays;\n",
      "import java.util.List;\n",
      "\n",
      "public class IgnoreMissingValuesConverter implements ITypeConverter<Float> {\n",
      "\n",
      "    private List<String> missingValueRepresentation;\n",
      "\n",
      "    public IgnoreMissingValuesConverter(String... missingValueRepresentation) {\n",
      "        this(Arrays.asList(missingValueRepresentation));\n",
      "    }\n",
      "\n",
      "    public IgnoreMissingValuesConverter(List<String> missingValueRepresentation) {\n",
      "        this.missingValueRepresentation = missingValueRepresentation;\n",
      "    }\n",
      "\n",
      "    @Override\n",
      "    public Float convert(final String s) {\n",
      "\n",
      "        if(StringUtils.isNullOrWhiteSpace(s)) {\n",
      "            return null;\n",
      "        }\n",
      "\n",
      "        boolean isMissingValue = missingValueRepresentation\n",
      "                .stream()\n",
      "                .anyMatch(x -> x.equals(s));\n",
      "\n",
      "        if(isMissingValue) {\n",
      "            return null;\n",
      "        }\n",
      "\n",
      "        return Float.parseFloat(s);\n",
      "    }\n",
      "\n",
      "    @Override\n",
      "    public Type getTargetType() {\n",
      "        return Float.class;\n",
      "    }\n",
      "}\n",
      "\n"
     ]
    }
   ],
   "source": [
    "print(df['raw_content'][0])\n",
    "df.to_csv(\"test.csv\", index=False)"
   ]
  },
  {
   "cell_type": "code",
   "execution_count": null,
   "metadata": {},
   "outputs": [],
   "source": []
  }
 ],
 "metadata": {
  "kernelspec": {
   "display_name": ".venv",
   "language": "python",
   "name": "python3"
  },
  "language_info": {
   "codemirror_mode": {
    "name": "ipython",
    "version": 3
   },
   "file_extension": ".py",
   "mimetype": "text/x-python",
   "name": "python",
   "nbconvert_exporter": "python",
   "pygments_lexer": "ipython3",
   "version": "3.8.0"
  }
 },
 "nbformat": 4,
 "nbformat_minor": 2
}
